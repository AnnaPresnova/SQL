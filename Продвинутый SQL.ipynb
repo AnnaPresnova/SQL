{
 "cells": [
  {
   "cell_type": "markdown",
   "metadata": {},
   "source": [
    "## Проект Продвинутый SQL"
   ]
  },
  {
   "cell_type": "markdown",
   "metadata": {},
   "source": [
    "**Задача** : подключиться к базе с помощью SQLAlchemy и написать несколько SQL-запросов в Jupyter Notebook по схеме `stackoverflow`."
   ]
  },
  {
   "cell_type": "code",
   "execution_count": 1,
   "metadata": {},
   "outputs": [
    {
     "name": "stdout",
     "output_type": "stream",
     "text": [
      "Requirement already satisfied: sqlalchemy in /opt/conda/lib/python3.9/site-packages (1.4.20)\n",
      "Requirement already satisfied: greenlet!=0.4.17 in /opt/conda/lib/python3.9/site-packages (from sqlalchemy) (1.1.0)\n"
     ]
    }
   ],
   "source": [
    "# установим библиотеку\n",
    "\n",
    "!pip install sqlalchemy"
   ]
  },
  {
   "cell_type": "code",
   "execution_count": 2,
   "metadata": {
    "id": "nlZBlglMDWKe"
   },
   "outputs": [],
   "source": [
    "# импортируем необходимые библиотеки\n",
    "\n",
    "import pandas as pd\n",
    "import matplotlib.pyplot as plt\n",
    "from sqlalchemy import create_engine \n",
    "import seaborn as sns"
   ]
  },
  {
   "cell_type": "markdown",
   "metadata": {
    "id": "XnOE3n28DWKg"
   },
   "source": [
    "### Конфигурация для подключения к базе данных `data-analyst-advanced-sql`\n",
    "Эта база данных содержит схему `stackoverflow`, с которой будем работать в проекте"
   ]
  },
  {
   "cell_type": "code",
   "execution_count": 3,
   "metadata": {
    "id": "6p-yGp7qDWKg"
   },
   "outputs": [],
   "source": [
    "db_config = {\n",
    "    'user': 'praktikum_student', # имя пользователя\n",
    "    'pwd': 'Sdf4$2;d-d30pp', # пароль\n",
    "    'host': 'rc1b-wcoijxj3yxfsf3fs.mdb.yandexcloud.net',\n",
    "    'port': 6432, # порт подключения\n",
    "    'db': 'data-analyst-advanced-sql' # название базы данных\n",
    "}  \n",
    "\n",
    "connection_string = 'postgresql://{}:{}@{}:{}/{}'.format(\n",
    "    db_config['user'],\n",
    "    db_config['pwd'],\n",
    "    db_config['host'],\n",
    "    db_config['port'],\n",
    "    db_config['db'],\n",
    ")"
   ]
  },
  {
   "cell_type": "markdown",
   "metadata": {
    "id": "2Rg8ZpS0DWKh"
   },
   "source": [
    "Создание подключения"
   ]
  },
  {
   "cell_type": "code",
   "execution_count": 4,
   "metadata": {
    "id": "DamCUTR6DWKi"
   },
   "outputs": [],
   "source": [
    "engine = create_engine(connection_string) "
   ]
  },
  {
   "cell_type": "markdown",
   "metadata": {
    "id": "bel8XeSlDWKj"
   },
   "source": [
    "Пример запроса к базе данных\n",
    "\n",
    "`sample_df` является pandas-датафреймом."
   ]
  },
  {
   "cell_type": "code",
   "execution_count": 5,
   "metadata": {
    "id": "6Z_fw0yLDWKk"
   },
   "outputs": [],
   "source": [
    "query = '''\n",
    "SELECT *\n",
    "FROM stackoverflow.users\n",
    "LIMIT 10;\n",
    "'''\n",
    "\n",
    "sample_df = pd.read_sql_query(query, con=engine) "
   ]
  },
  {
   "cell_type": "code",
   "execution_count": 6,
   "metadata": {
    "id": "ZpuZ290oDWKk",
    "outputId": "22785a0a-e2bc-4559-ec3c-4879c4b377eb",
    "scrolled": true
   },
   "outputs": [
    {
     "data": {
      "text/html": [
       "<div>\n",
       "<style scoped>\n",
       "    .dataframe tbody tr th:only-of-type {\n",
       "        vertical-align: middle;\n",
       "    }\n",
       "\n",
       "    .dataframe tbody tr th {\n",
       "        vertical-align: top;\n",
       "    }\n",
       "\n",
       "    .dataframe thead th {\n",
       "        text-align: right;\n",
       "    }\n",
       "</style>\n",
       "<table border=\"1\" class=\"dataframe\">\n",
       "  <thead>\n",
       "    <tr style=\"text-align: right;\">\n",
       "      <th></th>\n",
       "      <th>id</th>\n",
       "      <th>creation_date</th>\n",
       "      <th>display_name</th>\n",
       "      <th>last_access_date</th>\n",
       "      <th>location</th>\n",
       "      <th>reputation</th>\n",
       "      <th>views</th>\n",
       "    </tr>\n",
       "  </thead>\n",
       "  <tbody>\n",
       "    <tr>\n",
       "      <th>0</th>\n",
       "      <td>1</td>\n",
       "      <td>2008-07-31 14:22:31</td>\n",
       "      <td>Jeff Atwood</td>\n",
       "      <td>2018-08-29 02:34:23</td>\n",
       "      <td>El Cerrito, CA</td>\n",
       "      <td>44300</td>\n",
       "      <td>408587</td>\n",
       "    </tr>\n",
       "    <tr>\n",
       "      <th>1</th>\n",
       "      <td>2</td>\n",
       "      <td>2008-07-31 14:22:31</td>\n",
       "      <td>Geoff Dalgas</td>\n",
       "      <td>2018-08-23 17:31:56</td>\n",
       "      <td>Corvallis, OR</td>\n",
       "      <td>3491</td>\n",
       "      <td>23966</td>\n",
       "    </tr>\n",
       "    <tr>\n",
       "      <th>2</th>\n",
       "      <td>3</td>\n",
       "      <td>2008-07-31 14:22:31</td>\n",
       "      <td>Jarrod Dixon</td>\n",
       "      <td>2018-08-30 20:56:24</td>\n",
       "      <td>Raleigh, NC, United States</td>\n",
       "      <td>13418</td>\n",
       "      <td>24396</td>\n",
       "    </tr>\n",
       "    <tr>\n",
       "      <th>3</th>\n",
       "      <td>4</td>\n",
       "      <td>2008-07-31 14:22:31</td>\n",
       "      <td>Joel Spolsky</td>\n",
       "      <td>2018-08-14 22:18:15</td>\n",
       "      <td>New York, NY</td>\n",
       "      <td>28768</td>\n",
       "      <td>73755</td>\n",
       "    </tr>\n",
       "    <tr>\n",
       "      <th>4</th>\n",
       "      <td>5</td>\n",
       "      <td>2008-07-31 14:22:31</td>\n",
       "      <td>Jon Galloway</td>\n",
       "      <td>2018-08-29 16:48:36</td>\n",
       "      <td>San Diego, CA</td>\n",
       "      <td>39172</td>\n",
       "      <td>11700</td>\n",
       "    </tr>\n",
       "    <tr>\n",
       "      <th>5</th>\n",
       "      <td>8</td>\n",
       "      <td>2008-07-31 21:33:24</td>\n",
       "      <td>Eggs McLaren</td>\n",
       "      <td>2018-04-09 02:04:56</td>\n",
       "      <td>None</td>\n",
       "      <td>942</td>\n",
       "      <td>6372</td>\n",
       "    </tr>\n",
       "    <tr>\n",
       "      <th>6</th>\n",
       "      <td>9</td>\n",
       "      <td>2008-07-31 21:35:27</td>\n",
       "      <td>Kevin Dente</td>\n",
       "      <td>2018-08-30 18:18:03</td>\n",
       "      <td>Oakland, CA</td>\n",
       "      <td>14337</td>\n",
       "      <td>4949</td>\n",
       "    </tr>\n",
       "    <tr>\n",
       "      <th>7</th>\n",
       "      <td>11</td>\n",
       "      <td>2008-08-01 00:59:11</td>\n",
       "      <td>Anonymous User</td>\n",
       "      <td>2008-08-01 00:59:11</td>\n",
       "      <td>None</td>\n",
       "      <td>1890</td>\n",
       "      <td>2123</td>\n",
       "    </tr>\n",
       "    <tr>\n",
       "      <th>8</th>\n",
       "      <td>13</td>\n",
       "      <td>2008-08-01 04:18:05</td>\n",
       "      <td>Chris Jester-Young</td>\n",
       "      <td>2018-08-30 02:47:23</td>\n",
       "      <td>Raleigh, NC, United States</td>\n",
       "      <td>177138</td>\n",
       "      <td>35414</td>\n",
       "    </tr>\n",
       "    <tr>\n",
       "      <th>9</th>\n",
       "      <td>17</td>\n",
       "      <td>2008-08-01 12:02:22</td>\n",
       "      <td>Nick Berardi</td>\n",
       "      <td>2018-01-22 01:35:38</td>\n",
       "      <td>Issaquah, WA</td>\n",
       "      <td>44443</td>\n",
       "      <td>4786</td>\n",
       "    </tr>\n",
       "  </tbody>\n",
       "</table>\n",
       "</div>"
      ],
      "text/plain": [
       "   id       creation_date        display_name    last_access_date  \\\n",
       "0   1 2008-07-31 14:22:31         Jeff Atwood 2018-08-29 02:34:23   \n",
       "1   2 2008-07-31 14:22:31        Geoff Dalgas 2018-08-23 17:31:56   \n",
       "2   3 2008-07-31 14:22:31        Jarrod Dixon 2018-08-30 20:56:24   \n",
       "3   4 2008-07-31 14:22:31        Joel Spolsky 2018-08-14 22:18:15   \n",
       "4   5 2008-07-31 14:22:31        Jon Galloway 2018-08-29 16:48:36   \n",
       "5   8 2008-07-31 21:33:24        Eggs McLaren 2018-04-09 02:04:56   \n",
       "6   9 2008-07-31 21:35:27         Kevin Dente 2018-08-30 18:18:03   \n",
       "7  11 2008-08-01 00:59:11      Anonymous User 2008-08-01 00:59:11   \n",
       "8  13 2008-08-01 04:18:05  Chris Jester-Young 2018-08-30 02:47:23   \n",
       "9  17 2008-08-01 12:02:22        Nick Berardi 2018-01-22 01:35:38   \n",
       "\n",
       "                     location  reputation   views  \n",
       "0              El Cerrito, CA       44300  408587  \n",
       "1               Corvallis, OR        3491   23966  \n",
       "2  Raleigh, NC, United States       13418   24396  \n",
       "3                New York, NY       28768   73755  \n",
       "4               San Diego, CA       39172   11700  \n",
       "5                        None         942    6372  \n",
       "6                 Oakland, CA       14337    4949  \n",
       "7                        None        1890    2123  \n",
       "8  Raleigh, NC, United States      177138   35414  \n",
       "9                Issaquah, WA       44443    4786  "
      ]
     },
     "execution_count": 6,
     "metadata": {},
     "output_type": "execute_result"
    }
   ],
   "source": [
    "sample_df"
   ]
  },
  {
   "cell_type": "markdown",
   "metadata": {},
   "source": [
    "Отлично, база данных подключена.  "
   ]
  },
  {
   "cell_type": "markdown",
   "metadata": {
    "id": "gnBMXkDBDWKm"
   },
   "source": [
    "# Задание 1"
   ]
  },
  {
   "cell_type": "markdown",
   "metadata": {
    "id": "vHsfOrrNDWKn"
   },
   "source": [
    "Выведем общую сумму просмотров постов за каждый месяц 2008 года. Если данных за какой-либо месяц в базе нет, такой месяц можно пропустить. Результат отсортируем по убыванию общего количества просмотров."
   ]
  },
  {
   "cell_type": "code",
   "execution_count": 7,
   "metadata": {
    "id": "eWvykcXTDWKo",
    "scrolled": true
   },
   "outputs": [
    {
     "data": {
      "text/html": [
       "<div>\n",
       "<style scoped>\n",
       "    .dataframe tbody tr th:only-of-type {\n",
       "        vertical-align: middle;\n",
       "    }\n",
       "\n",
       "    .dataframe tbody tr th {\n",
       "        vertical-align: top;\n",
       "    }\n",
       "\n",
       "    .dataframe thead th {\n",
       "        text-align: right;\n",
       "    }\n",
       "</style>\n",
       "<table border=\"1\" class=\"dataframe\">\n",
       "  <thead>\n",
       "    <tr style=\"text-align: right;\">\n",
       "      <th></th>\n",
       "      <th>month_date</th>\n",
       "      <th>total_views</th>\n",
       "    </tr>\n",
       "  </thead>\n",
       "  <tbody>\n",
       "    <tr>\n",
       "      <th>0</th>\n",
       "      <td>2008-09-01</td>\n",
       "      <td>452928568.0</td>\n",
       "    </tr>\n",
       "    <tr>\n",
       "      <th>1</th>\n",
       "      <td>2008-10-01</td>\n",
       "      <td>365400138.0</td>\n",
       "    </tr>\n",
       "    <tr>\n",
       "      <th>2</th>\n",
       "      <td>2008-11-01</td>\n",
       "      <td>221759651.0</td>\n",
       "    </tr>\n",
       "    <tr>\n",
       "      <th>3</th>\n",
       "      <td>2008-12-01</td>\n",
       "      <td>197792841.0</td>\n",
       "    </tr>\n",
       "    <tr>\n",
       "      <th>4</th>\n",
       "      <td>2008-08-01</td>\n",
       "      <td>131367083.0</td>\n",
       "    </tr>\n",
       "    <tr>\n",
       "      <th>5</th>\n",
       "      <td>2008-07-01</td>\n",
       "      <td>669895.0</td>\n",
       "    </tr>\n",
       "  </tbody>\n",
       "</table>\n",
       "</div>"
      ],
      "text/plain": [
       "   month_date  total_views\n",
       "0  2008-09-01  452928568.0\n",
       "1  2008-10-01  365400138.0\n",
       "2  2008-11-01  221759651.0\n",
       "3  2008-12-01  197792841.0\n",
       "4  2008-08-01  131367083.0\n",
       "5  2008-07-01     669895.0"
      ]
     },
     "execution_count": 7,
     "metadata": {},
     "output_type": "execute_result"
    }
   ],
   "source": [
    "# напишем запрос\n",
    "query = '''\n",
    "WITH sum AS\n",
    "\n",
    "(SELECT \n",
    "CAST(DATE_TRUNC ('month', creation_date) AS date) AS month_date,\n",
    "SUM(views_count) OVER (PARTITION BY CAST(DATE_TRUNC ('month', creation_date) AS date)) AS count\n",
    "FROM stackoverflow.posts\n",
    "WHERE CAST(DATE_TRUNC ('month', creation_date) AS date) BETWEEN '2008-01-01' AND '2008-12-31')\n",
    "\n",
    "SELECT \n",
    "month_date,\n",
    "AVG(count) AS total_views\n",
    "FROM sum\n",
    "GROUP BY month_date\n",
    "ORDER BY total_views DESC;\n",
    "       \n",
    "\n",
    "'''\n",
    "\n",
    "# выполним запрос\n",
    "\n",
    "count=pd.read_sql_query(query, con=engine)\n",
    "\n",
    "count.head(6)"
   ]
  },
  {
   "cell_type": "markdown",
   "metadata": {
    "id": "luxSj17oDWKq"
   },
   "source": [
    "**Данные по месяцам 2008 года отличаются, дело в том, что в июле и августе был тестовый период работы сайта, а с сентября сервис заработал. В сентябре количество просмотров постов было самое высокое за 2008 год, так как этот сайт стал новинкой. К декабрю происходило снижение количества просмотров, вероятно, отсеивалась нецелевая аудитория**."
   ]
  },
  {
   "cell_type": "markdown",
   "metadata": {
    "id": "FziIXkn5DWKr"
   },
   "source": [
    "# Задание 2"
   ]
  },
  {
   "cell_type": "markdown",
   "metadata": {
    "id": "fTGESZvYDWKr"
   },
   "source": [
    "Выведем имена самых активных пользователей, которые в первый месяц после регистрации (включая день регистрации) дали больше 100 ответов. Вопросы, которые задавали пользователи, не учитываем. Для каждого имени пользователя выведем количество уникальных значений `user_id`. Отсортируем результат по полю с именами в лексикографическом порядке."
   ]
  },
  {
   "cell_type": "code",
   "execution_count": 8,
   "metadata": {
    "id": "fIO-y-YjDWKt",
    "scrolled": false
   },
   "outputs": [
    {
     "data": {
      "text/html": [
       "<div>\n",
       "<style scoped>\n",
       "    .dataframe tbody tr th:only-of-type {\n",
       "        vertical-align: middle;\n",
       "    }\n",
       "\n",
       "    .dataframe tbody tr th {\n",
       "        vertical-align: top;\n",
       "    }\n",
       "\n",
       "    .dataframe thead th {\n",
       "        text-align: right;\n",
       "    }\n",
       "</style>\n",
       "<table border=\"1\" class=\"dataframe\">\n",
       "  <thead>\n",
       "    <tr style=\"text-align: right;\">\n",
       "      <th></th>\n",
       "      <th>display_name</th>\n",
       "      <th>count</th>\n",
       "    </tr>\n",
       "  </thead>\n",
       "  <tbody>\n",
       "    <tr>\n",
       "      <th>0</th>\n",
       "      <td>1800 INFORMATION</td>\n",
       "      <td>1</td>\n",
       "    </tr>\n",
       "    <tr>\n",
       "      <th>1</th>\n",
       "      <td>Adam Bellaire</td>\n",
       "      <td>1</td>\n",
       "    </tr>\n",
       "    <tr>\n",
       "      <th>2</th>\n",
       "      <td>Adam Davis</td>\n",
       "      <td>1</td>\n",
       "    </tr>\n",
       "    <tr>\n",
       "      <th>3</th>\n",
       "      <td>Adam Liss</td>\n",
       "      <td>1</td>\n",
       "    </tr>\n",
       "    <tr>\n",
       "      <th>4</th>\n",
       "      <td>Alan</td>\n",
       "      <td>8</td>\n",
       "    </tr>\n",
       "    <tr>\n",
       "      <th>5</th>\n",
       "      <td>Amy B</td>\n",
       "      <td>1</td>\n",
       "    </tr>\n",
       "  </tbody>\n",
       "</table>\n",
       "</div>"
      ],
      "text/plain": [
       "       display_name  count\n",
       "0  1800 INFORMATION      1\n",
       "1     Adam Bellaire      1\n",
       "2        Adam Davis      1\n",
       "3         Adam Liss      1\n",
       "4              Alan      8\n",
       "5             Amy B      1"
      ]
     },
     "execution_count": 8,
     "metadata": {},
     "output_type": "execute_result"
    }
   ],
   "source": [
    "# напишем запрос\n",
    "query = '''\n",
    "\n",
    "                      \n",
    "SELECT u.display_name,\n",
    "       COUNT(DISTINCT p.user_id)\n",
    "FROM stackoverflow.posts AS p\n",
    "JOIN stackoverflow.users AS u \n",
    "ON p.user_id=u.id\n",
    "JOIN stackoverflow.post_types AS pt\n",
    "ON pt.id=p.post_type_id\n",
    "WHERE p.creation_date::date BETWEEN u.creation_date::date AND (u.creation_date::date + INTERVAL '1 month') \n",
    "      AND pt.type LIKE 'Answer'\n",
    "GROUP BY u.display_name\n",
    "HAVING COUNT(p.id) > 100\n",
    "ORDER BY u.display_name;\n",
    "\n",
    "\n",
    "\n",
    "\n",
    "'''\n",
    "\n",
    "# выполним запрос\n",
    "\n",
    "display_name=pd.read_sql_query(query, con=engine)\n",
    "\n",
    "display_name.head(6)"
   ]
  },
  {
   "cell_type": "code",
   "execution_count": 9,
   "metadata": {},
   "outputs": [
    {
     "data": {
      "text/html": [
       "<div>\n",
       "<style scoped>\n",
       "    .dataframe tbody tr th:only-of-type {\n",
       "        vertical-align: middle;\n",
       "    }\n",
       "\n",
       "    .dataframe tbody tr th {\n",
       "        vertical-align: top;\n",
       "    }\n",
       "\n",
       "    .dataframe thead th {\n",
       "        text-align: right;\n",
       "    }\n",
       "</style>\n",
       "<table border=\"1\" class=\"dataframe\">\n",
       "  <thead>\n",
       "    <tr style=\"text-align: right;\">\n",
       "      <th></th>\n",
       "      <th>count</th>\n",
       "    </tr>\n",
       "  </thead>\n",
       "  <tbody>\n",
       "    <tr>\n",
       "      <th>count</th>\n",
       "      <td>79.000000</td>\n",
       "    </tr>\n",
       "    <tr>\n",
       "      <th>mean</th>\n",
       "      <td>3.987342</td>\n",
       "    </tr>\n",
       "    <tr>\n",
       "      <th>std</th>\n",
       "      <td>6.446016</td>\n",
       "    </tr>\n",
       "    <tr>\n",
       "      <th>min</th>\n",
       "      <td>1.000000</td>\n",
       "    </tr>\n",
       "    <tr>\n",
       "      <th>25%</th>\n",
       "      <td>1.000000</td>\n",
       "    </tr>\n",
       "    <tr>\n",
       "      <th>50%</th>\n",
       "      <td>1.000000</td>\n",
       "    </tr>\n",
       "    <tr>\n",
       "      <th>75%</th>\n",
       "      <td>1.000000</td>\n",
       "    </tr>\n",
       "    <tr>\n",
       "      <th>max</th>\n",
       "      <td>29.000000</td>\n",
       "    </tr>\n",
       "  </tbody>\n",
       "</table>\n",
       "</div>"
      ],
      "text/plain": [
       "           count\n",
       "count  79.000000\n",
       "mean    3.987342\n",
       "std     6.446016\n",
       "min     1.000000\n",
       "25%     1.000000\n",
       "50%     1.000000\n",
       "75%     1.000000\n",
       "max    29.000000"
      ]
     },
     "execution_count": 9,
     "metadata": {},
     "output_type": "execute_result"
    }
   ],
   "source": [
    "display_name.describe()"
   ]
  },
  {
   "cell_type": "markdown",
   "metadata": {
    "id": "CEIGGQ6ODWKy"
   },
   "source": [
    "**Мы видим, что среднее в несколько раз больше медианы, значит, аномальные значения имеются, максимальное количество одинаковых имен составляет 29, Id при этом разные, это хорошо.**"
   ]
  },
  {
   "cell_type": "markdown",
   "metadata": {
    "id": "JhM2xXj5DWKu"
   },
   "source": [
    "# Задание 3"
   ]
  },
  {
   "cell_type": "markdown",
   "metadata": {
    "id": "IS6xPqyyDWKu"
   },
   "source": [
    "Выведем количество постов за 2008 год по месяцам. Отберем посты от пользователей, которые зарегистрировались в сентябре 2008 года и сделали хотя бы один пост в декабре того же года. Отсортируем таблицу по значению месяца по убыванию."
   ]
  },
  {
   "cell_type": "code",
   "execution_count": 10,
   "metadata": {
    "id": "kVu0FB8WDWKv",
    "scrolled": false
   },
   "outputs": [
    {
     "data": {
      "text/html": [
       "<div>\n",
       "<style scoped>\n",
       "    .dataframe tbody tr th:only-of-type {\n",
       "        vertical-align: middle;\n",
       "    }\n",
       "\n",
       "    .dataframe tbody tr th {\n",
       "        vertical-align: top;\n",
       "    }\n",
       "\n",
       "    .dataframe thead th {\n",
       "        text-align: right;\n",
       "    }\n",
       "</style>\n",
       "<table border=\"1\" class=\"dataframe\">\n",
       "  <thead>\n",
       "    <tr style=\"text-align: right;\">\n",
       "      <th></th>\n",
       "      <th>month</th>\n",
       "      <th>count</th>\n",
       "    </tr>\n",
       "  </thead>\n",
       "  <tbody>\n",
       "    <tr>\n",
       "      <th>0</th>\n",
       "      <td>2008-12-01</td>\n",
       "      <td>17641</td>\n",
       "    </tr>\n",
       "    <tr>\n",
       "      <th>1</th>\n",
       "      <td>2008-11-01</td>\n",
       "      <td>18294</td>\n",
       "    </tr>\n",
       "    <tr>\n",
       "      <th>2</th>\n",
       "      <td>2008-10-01</td>\n",
       "      <td>27171</td>\n",
       "    </tr>\n",
       "    <tr>\n",
       "      <th>3</th>\n",
       "      <td>2008-09-01</td>\n",
       "      <td>24870</td>\n",
       "    </tr>\n",
       "    <tr>\n",
       "      <th>4</th>\n",
       "      <td>2008-08-01</td>\n",
       "      <td>32</td>\n",
       "    </tr>\n",
       "  </tbody>\n",
       "</table>\n",
       "</div>"
      ],
      "text/plain": [
       "        month  count\n",
       "0  2008-12-01  17641\n",
       "1  2008-11-01  18294\n",
       "2  2008-10-01  27171\n",
       "3  2008-09-01  24870\n",
       "4  2008-08-01     32"
      ]
     },
     "execution_count": 10,
     "metadata": {},
     "output_type": "execute_result"
    }
   ],
   "source": [
    "# напишем запрос\n",
    "query = '''\n",
    "WITH users AS\n",
    "(\n",
    "SELECT u.id\n",
    "FROM stackoverflow.posts AS p\n",
    "JOIN stackoverflow.users AS u \n",
    "ON p.user_id=u.id\n",
    "WHERE (u.creation_date::date BETWEEN '2008-09-01' AND '2008-09-30')\n",
    "AND (p.creation_date::date BETWEEN '2008-12-01' AND '2008-12-31')\n",
    "GROUP BY u.id\n",
    ")\n",
    "\n",
    "SELECT DATE_TRUNC('month', p.creation_date)::date AS month,\n",
    "       COUNT(p.id)\n",
    "FROM stackoverflow.posts AS p\n",
    "WHERE p.user_id IN \n",
    "(\n",
    "SELECT *\n",
    "FROM users\n",
    ")\n",
    "      AND DATE_TRUNC('year', p.creation_date)::date = '2008-01-01'\n",
    "GROUP BY DATE_TRUNC('month', p.creation_date)::date\n",
    "ORDER BY DATE_TRUNC('month', p.creation_date)::date DESC;\n",
    "'''\n",
    "\n",
    "\n",
    "# выполним запрос\n",
    "\n",
    "count_month=pd.read_sql_query(query, con=engine)\n",
    "\n",
    "count_month.head(6)"
   ]
  },
  {
   "cell_type": "markdown",
   "metadata": {},
   "source": [
    "Изучим данные на предмет аномалий."
   ]
  },
  {
   "cell_type": "code",
   "execution_count": 11,
   "metadata": {
    "scrolled": true
   },
   "outputs": [
    {
     "data": {
      "text/html": [
       "<div>\n",
       "<style scoped>\n",
       "    .dataframe tbody tr th:only-of-type {\n",
       "        vertical-align: middle;\n",
       "    }\n",
       "\n",
       "    .dataframe tbody tr th {\n",
       "        vertical-align: top;\n",
       "    }\n",
       "\n",
       "    .dataframe thead th {\n",
       "        text-align: right;\n",
       "    }\n",
       "</style>\n",
       "<table border=\"1\" class=\"dataframe\">\n",
       "  <thead>\n",
       "    <tr style=\"text-align: right;\">\n",
       "      <th></th>\n",
       "      <th>count</th>\n",
       "    </tr>\n",
       "  </thead>\n",
       "  <tbody>\n",
       "    <tr>\n",
       "      <th>count</th>\n",
       "      <td>5.000000</td>\n",
       "    </tr>\n",
       "    <tr>\n",
       "      <th>mean</th>\n",
       "      <td>17601.600000</td>\n",
       "    </tr>\n",
       "    <tr>\n",
       "      <th>std</th>\n",
       "      <td>10648.648614</td>\n",
       "    </tr>\n",
       "    <tr>\n",
       "      <th>min</th>\n",
       "      <td>32.000000</td>\n",
       "    </tr>\n",
       "    <tr>\n",
       "      <th>25%</th>\n",
       "      <td>17641.000000</td>\n",
       "    </tr>\n",
       "    <tr>\n",
       "      <th>50%</th>\n",
       "      <td>18294.000000</td>\n",
       "    </tr>\n",
       "    <tr>\n",
       "      <th>75%</th>\n",
       "      <td>24870.000000</td>\n",
       "    </tr>\n",
       "    <tr>\n",
       "      <th>max</th>\n",
       "      <td>27171.000000</td>\n",
       "    </tr>\n",
       "  </tbody>\n",
       "</table>\n",
       "</div>"
      ],
      "text/plain": [
       "              count\n",
       "count      5.000000\n",
       "mean   17601.600000\n",
       "std    10648.648614\n",
       "min       32.000000\n",
       "25%    17641.000000\n",
       "50%    18294.000000\n",
       "75%    24870.000000\n",
       "max    27171.000000"
      ]
     },
     "execution_count": 11,
     "metadata": {},
     "output_type": "execute_result"
    }
   ],
   "source": [
    "count_month.describe()"
   ]
  },
  {
   "cell_type": "code",
   "execution_count": 12,
   "metadata": {},
   "outputs": [
    {
     "data": {
      "image/png": "[encoded data removed]",
      "text/plain": [
       "<Figure size 432x288 with 1 Axes>"
      ]
     },
     "metadata": {
      "needs_background": "light"
     },
     "output_type": "display_data"
    }
   ],
   "source": [
    "# построим диаграмму размаха\n",
    "\n",
    "plt.boxplot(count_month['count'])\n",
    "\n",
    "plt.title('Количество постов по месяцам в 2008 году')\n",
    "\n",
    "plt.ylabel('Количество постов')\n",
    "\n",
    "plt.show()"
   ]
  },
  {
   "cell_type": "markdown",
   "metadata": {
    "id": "MMVIz4yMlKpN"
   },
   "source": [
    "**На графике мы видим единичный вылет - аномально низкое значение. По датафрейму тоже это видно, аномальное значение наблюдается в августе, хотя по условиям задачи, должны были быть данные пользователей, которые зарегистрировались в сентябре. Скорее всего, в августе отобразились посты, написанные в ответ на чей-то вопрос. Августовское количество постов гораздо ниже, чем в остальные месяца.** "
   ]
  },
  {
   "cell_type": "markdown",
   "metadata": {
    "id": "5Pcizm0DDWKz"
   },
   "source": [
    "# Задание 4"
   ]
  },
  {
   "cell_type": "markdown",
   "metadata": {
    "id": "KUZPF6vHDWKz"
   },
   "source": [
    "Используя данные о постах, выведем несколько полей:\n",
    "\n",
    "- идентификатор пользователя, который написал пост;\n",
    "- дата создания поста;\n",
    "- количество просмотров у текущего поста;\n",
    "- сумму просмотров постов автора с накоплением.\n",
    "\n",
    "Данные в таблице должны быть отсортированы по возрастанию идентификаторов пользователей, а данные об одном и том же пользователе — по возрастанию даты создания поста."
   ]
  },
  {
   "cell_type": "code",
   "execution_count": 13,
   "metadata": {
    "id": "hDoJhMzfDWK0",
    "scrolled": true
   },
   "outputs": [
    {
     "data": {
      "text/html": [
       "<div>\n",
       "<style scoped>\n",
       "    .dataframe tbody tr th:only-of-type {\n",
       "        vertical-align: middle;\n",
       "    }\n",
       "\n",
       "    .dataframe tbody tr th {\n",
       "        vertical-align: top;\n",
       "    }\n",
       "\n",
       "    .dataframe thead th {\n",
       "        text-align: right;\n",
       "    }\n",
       "</style>\n",
       "<table border=\"1\" class=\"dataframe\">\n",
       "  <thead>\n",
       "    <tr style=\"text-align: right;\">\n",
       "      <th></th>\n",
       "      <th>user_id</th>\n",
       "      <th>creation_date</th>\n",
       "      <th>views_count</th>\n",
       "      <th>cumulative_count</th>\n",
       "    </tr>\n",
       "  </thead>\n",
       "  <tbody>\n",
       "    <tr>\n",
       "      <th>0</th>\n",
       "      <td>1</td>\n",
       "      <td>2008-07-31 23:41:00</td>\n",
       "      <td>480476</td>\n",
       "      <td>480476</td>\n",
       "    </tr>\n",
       "    <tr>\n",
       "      <th>1</th>\n",
       "      <td>1</td>\n",
       "      <td>2008-07-31 23:55:38</td>\n",
       "      <td>136033</td>\n",
       "      <td>616509</td>\n",
       "    </tr>\n",
       "    <tr>\n",
       "      <th>2</th>\n",
       "      <td>1</td>\n",
       "      <td>2008-07-31 23:56:41</td>\n",
       "      <td>0</td>\n",
       "      <td>616509</td>\n",
       "    </tr>\n",
       "    <tr>\n",
       "      <th>3</th>\n",
       "      <td>1</td>\n",
       "      <td>2008-08-04 02:45:08</td>\n",
       "      <td>0</td>\n",
       "      <td>616509</td>\n",
       "    </tr>\n",
       "    <tr>\n",
       "      <th>4</th>\n",
       "      <td>1</td>\n",
       "      <td>2008-08-04 04:31:03</td>\n",
       "      <td>0</td>\n",
       "      <td>616509</td>\n",
       "    </tr>\n",
       "  </tbody>\n",
       "</table>\n",
       "</div>"
      ],
      "text/plain": [
       "   user_id       creation_date  views_count  cumulative_count\n",
       "0        1 2008-07-31 23:41:00       480476            480476\n",
       "1        1 2008-07-31 23:55:38       136033            616509\n",
       "2        1 2008-07-31 23:56:41            0            616509\n",
       "3        1 2008-08-04 02:45:08            0            616509\n",
       "4        1 2008-08-04 04:31:03            0            616509"
      ]
     },
     "execution_count": 13,
     "metadata": {},
     "output_type": "execute_result"
    }
   ],
   "source": [
    "# напишем запрос\n",
    "query = '''\n",
    "\n",
    "SELECT user_id,\n",
    "       creation_date,\n",
    "       views_count,\n",
    "       SUM(views_count) OVER(PARTITION BY user_id   ORDER BY creation_date) AS cumulative_count\n",
    "FROM stackoverflow.posts\n",
    "ORDER BY user_id, creation_date;\n",
    "'''\n",
    "\n",
    "# выполним запрос\n",
    "\n",
    "count_views=pd.read_sql_query(query, con=engine)\n",
    "\n",
    "count_views.head()"
   ]
  },
  {
   "cell_type": "markdown",
   "metadata": {
    "id": "N0kHRHvIDWK2"
   },
   "source": [
    "# Задание 5"
   ]
  },
  {
   "cell_type": "markdown",
   "metadata": {
    "id": "gBgvmPtODWK2"
   },
   "source": [
    "Найдем среднее количество постов пользователей в день за август 2008 года. Отберем данные о пользователях, которые опубликовали больше 120 постов за август. Дни без публикаций не учитываем. \n",
    "\n",
    "Отсортируем результат по возрастанию среднего количества постов."
   ]
  },
  {
   "cell_type": "code",
   "execution_count": 14,
   "metadata": {
    "id": "YFyPNz5GDWK3"
   },
   "outputs": [
    {
     "data": {
      "text/html": [
       "<div>\n",
       "<style scoped>\n",
       "    .dataframe tbody tr th:only-of-type {\n",
       "        vertical-align: middle;\n",
       "    }\n",
       "\n",
       "    .dataframe tbody tr th {\n",
       "        vertical-align: top;\n",
       "    }\n",
       "\n",
       "    .dataframe thead th {\n",
       "        text-align: right;\n",
       "    }\n",
       "</style>\n",
       "<table border=\"1\" class=\"dataframe\">\n",
       "  <thead>\n",
       "    <tr style=\"text-align: right;\">\n",
       "      <th></th>\n",
       "      <th>user_id</th>\n",
       "      <th>avg_daily</th>\n",
       "    </tr>\n",
       "  </thead>\n",
       "  <tbody>\n",
       "    <tr>\n",
       "      <th>0</th>\n",
       "      <td>116</td>\n",
       "      <td>4.777778</td>\n",
       "    </tr>\n",
       "    <tr>\n",
       "      <th>1</th>\n",
       "      <td>234</td>\n",
       "      <td>5.208333</td>\n",
       "    </tr>\n",
       "    <tr>\n",
       "      <th>2</th>\n",
       "      <td>91</td>\n",
       "      <td>5.681818</td>\n",
       "    </tr>\n",
       "    <tr>\n",
       "      <th>3</th>\n",
       "      <td>905</td>\n",
       "      <td>7.000000</td>\n",
       "    </tr>\n",
       "    <tr>\n",
       "      <th>4</th>\n",
       "      <td>383</td>\n",
       "      <td>7.277778</td>\n",
       "    </tr>\n",
       "  </tbody>\n",
       "</table>\n",
       "</div>"
      ],
      "text/plain": [
       "   user_id  avg_daily\n",
       "0      116   4.777778\n",
       "1      234   5.208333\n",
       "2       91   5.681818\n",
       "3      905   7.000000\n",
       "4      383   7.277778"
      ]
     },
     "execution_count": 14,
     "metadata": {},
     "output_type": "execute_result"
    }
   ],
   "source": [
    "# напишем запрос\n",
    "query = '''\n",
    "\n",
    "WITH count_posts AS\n",
    "(\n",
    "SELECT user_id,\n",
    "       DATE_TRUNC('day', creation_date)::date,\n",
    "       COUNT(id) AS p_count\n",
    "FROM stackoverflow.posts\n",
    "WHERE user_id IN\n",
    "    (\n",
    "    SELECT user_id\n",
    "    FROM stackoverflow.posts\n",
    "    WHERE creation_date::date BETWEEN '2008-08-01' AND '2008-08-31'\n",
    "    GROUP BY user_id\n",
    "    HAVING COUNT(id) > 120\n",
    "    )\n",
    "GROUP BY user_id, DATE_TRUNC('day', creation_date)::date\n",
    ")\n",
    "SELECT count_posts.user_id,\n",
    "       AVG(count_posts.p_count) AS avg_daily\n",
    "FROM count_posts\n",
    "WHERE DATE_TRUNC('month', count_posts.date_trunc)::date = '2008-08-01'\n",
    "GROUP BY count_posts.user_id\n",
    "ORDER BY avg_daily;\n",
    "'''\n",
    "\n",
    "\n",
    "# выполним запрос\n",
    "\n",
    "count_posts=pd.read_sql_query(query, con=engine)\n",
    "\n",
    "count_posts.head()"
   ]
  },
  {
   "cell_type": "markdown",
   "metadata": {
    "id": "EQ0dcFH4DWK5"
   },
   "source": [
    "# Задание 6"
   ]
  },
  {
   "cell_type": "markdown",
   "metadata": {
    "id": "c7flfg_hDWK5"
   },
   "source": [
    "Сколько в среднем дней в период с 1 по 7 декабря 2008 года пользователи взаимодействовали с платформой? Для каждого пользователя отберем дни, в которые он или она опубликовали хотя бы один пост. "
   ]
  },
  {
   "cell_type": "code",
   "execution_count": 15,
   "metadata": {
    "id": "kZ7LXTr6DWK6"
   },
   "outputs": [
    {
     "data": {
      "text/html": [
       "<div>\n",
       "<style scoped>\n",
       "    .dataframe tbody tr th:only-of-type {\n",
       "        vertical-align: middle;\n",
       "    }\n",
       "\n",
       "    .dataframe tbody tr th {\n",
       "        vertical-align: top;\n",
       "    }\n",
       "\n",
       "    .dataframe thead th {\n",
       "        text-align: right;\n",
       "    }\n",
       "</style>\n",
       "<table border=\"1\" class=\"dataframe\">\n",
       "  <thead>\n",
       "    <tr style=\"text-align: right;\">\n",
       "      <th></th>\n",
       "      <th>result</th>\n",
       "    </tr>\n",
       "  </thead>\n",
       "  <tbody>\n",
       "    <tr>\n",
       "      <th>0</th>\n",
       "      <td>2</td>\n",
       "    </tr>\n",
       "  </tbody>\n",
       "</table>\n",
       "</div>"
      ],
      "text/plain": [
       "   result\n",
       "0       2"
      ]
     },
     "execution_count": 15,
     "metadata": {},
     "output_type": "execute_result"
    }
   ],
   "source": [
    "# напишем запрос\n",
    "query = '''\n",
    "\n",
    "WITH days AS\n",
    "(\n",
    "SELECT user_id,\n",
    "       COUNT(DISTINCT DATE_TRUNC('day', creation_date)::date)\n",
    "FROM stackoverflow.posts\n",
    "WHERE creation_date::date BETWEEN '2008-12-01' AND '2008-12-07'\n",
    "GROUP BY user_id\n",
    ")\n",
    "SELECT ROUND(AVG(count))::int AS result\n",
    "FROM days;\n",
    "'''\n",
    "\n",
    "\n",
    "# выполним запрос\n",
    "\n",
    "days_avg=pd.read_sql_query(query, con=engine)\n",
    "\n",
    "days_avg.head()"
   ]
  },
  {
   "cell_type": "markdown",
   "metadata": {
    "id": "LfUuYz-1DWK8"
   },
   "source": [
    "**В период с 1 по 7 декабря 2008  пользователи взаимодействовали с платформой в среднем 2 дня**."
   ]
  },
  {
   "cell_type": "markdown",
   "metadata": {
    "id": "wfOmqmfLDWK8"
   },
   "source": [
    "# Задание 7"
   ]
  },
  {
   "cell_type": "markdown",
   "metadata": {
    "id": "X4ARQimADWK9"
   },
   "source": [
    "Выведем историю активности каждого пользователя в таком виде: идентификатор пользователя, дата публикации поста. Отсортируем вывод по возрастанию идентификаторов пользователей, а для каждого пользователя — по возрастанию даты публикации.\n",
    "\n",
    "Добавим в таблицу новое поле: для каждого поста в нём будет указано название месяца предпоследней публикации пользователя относительно текущей. Если такой публикации нет, укажите `NULL`.  Python автоматически поменяет `NULL` на `None`, но дополнительно преобразовывать значения `None` вам не нужно.\n",
    "\n",
    "Посмотрим внимательно на образец таблицы: для первых двух постов предпоследней публикации нет, но, начиная с третьего поста, в новое поле входит нужный месяц. Для следующего пользователя в первые две записи поля `second_last_month` тоже войдёт `NULL`."
   ]
  },
  {
   "cell_type": "code",
   "execution_count": 17,
   "metadata": {},
   "outputs": [
    {
     "data": {
      "text/html": [
       "<div>\n",
       "<style scoped>\n",
       "    .dataframe tbody tr th:only-of-type {\n",
       "        vertical-align: middle;\n",
       "    }\n",
       "\n",
       "    .dataframe tbody tr th {\n",
       "        vertical-align: top;\n",
       "    }\n",
       "\n",
       "    .dataframe thead th {\n",
       "        text-align: right;\n",
       "    }\n",
       "</style>\n",
       "<table border=\"1\" class=\"dataframe\">\n",
       "  <thead>\n",
       "    <tr style=\"text-align: right;\">\n",
       "      <th></th>\n",
       "      <th>user_id</th>\n",
       "      <th>creation_date</th>\n",
       "      <th>to_char</th>\n",
       "    </tr>\n",
       "  </thead>\n",
       "  <tbody>\n",
       "    <tr>\n",
       "      <th>0</th>\n",
       "      <td>1</td>\n",
       "      <td>2008-07-31 23:41:00</td>\n",
       "      <td>None</td>\n",
       "    </tr>\n",
       "    <tr>\n",
       "      <th>1</th>\n",
       "      <td>1</td>\n",
       "      <td>2008-07-31 23:55:38</td>\n",
       "      <td>None</td>\n",
       "    </tr>\n",
       "    <tr>\n",
       "      <th>2</th>\n",
       "      <td>1</td>\n",
       "      <td>2008-07-31 23:56:41</td>\n",
       "      <td>July</td>\n",
       "    </tr>\n",
       "    <tr>\n",
       "      <th>3</th>\n",
       "      <td>1</td>\n",
       "      <td>2008-08-04 02:45:08</td>\n",
       "      <td>July</td>\n",
       "    </tr>\n",
       "    <tr>\n",
       "      <th>4</th>\n",
       "      <td>1</td>\n",
       "      <td>2008-08-04 04:31:03</td>\n",
       "      <td>July</td>\n",
       "    </tr>\n",
       "    <tr>\n",
       "      <th>5</th>\n",
       "      <td>1</td>\n",
       "      <td>2008-08-04 08:04:42</td>\n",
       "      <td>August</td>\n",
       "    </tr>\n",
       "    <tr>\n",
       "      <th>6</th>\n",
       "      <td>1</td>\n",
       "      <td>2008-08-10 08:28:52</td>\n",
       "      <td>August</td>\n",
       "    </tr>\n",
       "  </tbody>\n",
       "</table>\n",
       "</div>"
      ],
      "text/plain": [
       "   user_id       creation_date    to_char\n",
       "0        1 2008-07-31 23:41:00       None\n",
       "1        1 2008-07-31 23:55:38       None\n",
       "2        1 2008-07-31 23:56:41  July     \n",
       "3        1 2008-08-04 02:45:08  July     \n",
       "4        1 2008-08-04 04:31:03  July     \n",
       "5        1 2008-08-04 08:04:42  August   \n",
       "6        1 2008-08-10 08:28:52  August   "
      ]
     },
     "execution_count": 17,
     "metadata": {},
     "output_type": "execute_result"
    }
   ],
   "source": [
    "# напишем запрос\n",
    "query = '''\n",
    "\n",
    "WITH pred AS\n",
    "\n",
    "(SELECT user_id,\n",
    "         creation_date,\n",
    "         LAG(creation_date, 2, NULL)  OVER(PARTITION BY user_id ORDER BY creation_date) AS pred_date\n",
    "FROM stackoverflow.posts)\n",
    "\n",
    "SELECT user_id,\n",
    "       creation_date,\n",
    "       to_char(pred_date, 'Month')\n",
    "       \n",
    "FROM pred\n",
    "ORDER BY user_id, creation_date;\n",
    "'''\n",
    "\n",
    "\n",
    "\n",
    "# выполним запрос\n",
    "\n",
    "\n",
    "activ=pd.read_sql_query(query, con=engine)\n",
    "\n",
    "activ.head(7)"
   ]
  },
  {
   "cell_type": "markdown",
   "metadata": {
    "id": "tf9qq2yzDWK_"
   },
   "source": [
    "# Задание 8"
   ]
  },
  {
   "cell_type": "markdown",
   "metadata": {
    "id": "gfwLVXBYDWLA"
   },
   "source": [
    "Рассчитаем аналог Retention Rate по месяцам для пользователей StackOverflow. Объединим пользователей в когорты по месяцу их первого поста. Возвращение определяем по наличию поста в текущем месяце. "
   ]
  },
  {
   "cell_type": "code",
   "execution_count": 18,
   "metadata": {
    "id": "LUgFmwmTDWLB",
    "scrolled": true
   },
   "outputs": [
    {
     "data": {
      "text/html": [
       "<div>\n",
       "<style scoped>\n",
       "    .dataframe tbody tr th:only-of-type {\n",
       "        vertical-align: middle;\n",
       "    }\n",
       "\n",
       "    .dataframe tbody tr th {\n",
       "        vertical-align: top;\n",
       "    }\n",
       "\n",
       "    .dataframe thead th {\n",
       "        text-align: right;\n",
       "    }\n",
       "</style>\n",
       "<table border=\"1\" class=\"dataframe\">\n",
       "  <thead>\n",
       "    <tr style=\"text-align: right;\">\n",
       "      <th></th>\n",
       "      <th>cohort_dt</th>\n",
       "      <th>session_date</th>\n",
       "      <th>users_cnt</th>\n",
       "      <th>cohort_users_cnt</th>\n",
       "      <th>retention_rate</th>\n",
       "    </tr>\n",
       "  </thead>\n",
       "  <tbody>\n",
       "    <tr>\n",
       "      <th>0</th>\n",
       "      <td>2008-07-01</td>\n",
       "      <td>2008-07-01</td>\n",
       "      <td>3</td>\n",
       "      <td>3</td>\n",
       "      <td>100.00</td>\n",
       "    </tr>\n",
       "    <tr>\n",
       "      <th>1</th>\n",
       "      <td>2008-07-01</td>\n",
       "      <td>2008-08-01</td>\n",
       "      <td>2</td>\n",
       "      <td>3</td>\n",
       "      <td>66.67</td>\n",
       "    </tr>\n",
       "    <tr>\n",
       "      <th>2</th>\n",
       "      <td>2008-07-01</td>\n",
       "      <td>2008-09-01</td>\n",
       "      <td>1</td>\n",
       "      <td>3</td>\n",
       "      <td>33.33</td>\n",
       "    </tr>\n",
       "    <tr>\n",
       "      <th>3</th>\n",
       "      <td>2008-07-01</td>\n",
       "      <td>2008-10-01</td>\n",
       "      <td>2</td>\n",
       "      <td>3</td>\n",
       "      <td>66.67</td>\n",
       "    </tr>\n",
       "    <tr>\n",
       "      <th>4</th>\n",
       "      <td>2008-07-01</td>\n",
       "      <td>2008-11-01</td>\n",
       "      <td>1</td>\n",
       "      <td>3</td>\n",
       "      <td>33.33</td>\n",
       "    </tr>\n",
       "    <tr>\n",
       "      <th>5</th>\n",
       "      <td>2008-07-01</td>\n",
       "      <td>2008-12-01</td>\n",
       "      <td>2</td>\n",
       "      <td>3</td>\n",
       "      <td>66.67</td>\n",
       "    </tr>\n",
       "    <tr>\n",
       "      <th>6</th>\n",
       "      <td>2008-08-01</td>\n",
       "      <td>2008-08-01</td>\n",
       "      <td>2151</td>\n",
       "      <td>2151</td>\n",
       "      <td>100.00</td>\n",
       "    </tr>\n",
       "    <tr>\n",
       "      <th>7</th>\n",
       "      <td>2008-08-01</td>\n",
       "      <td>2008-09-01</td>\n",
       "      <td>1571</td>\n",
       "      <td>2151</td>\n",
       "      <td>73.04</td>\n",
       "    </tr>\n",
       "    <tr>\n",
       "      <th>8</th>\n",
       "      <td>2008-08-01</td>\n",
       "      <td>2008-10-01</td>\n",
       "      <td>1275</td>\n",
       "      <td>2151</td>\n",
       "      <td>59.27</td>\n",
       "    </tr>\n",
       "    <tr>\n",
       "      <th>9</th>\n",
       "      <td>2008-08-01</td>\n",
       "      <td>2008-11-01</td>\n",
       "      <td>1050</td>\n",
       "      <td>2151</td>\n",
       "      <td>48.81</td>\n",
       "    </tr>\n",
       "    <tr>\n",
       "      <th>10</th>\n",
       "      <td>2008-08-01</td>\n",
       "      <td>2008-12-01</td>\n",
       "      <td>894</td>\n",
       "      <td>2151</td>\n",
       "      <td>41.56</td>\n",
       "    </tr>\n",
       "    <tr>\n",
       "      <th>11</th>\n",
       "      <td>2008-09-01</td>\n",
       "      <td>2008-09-01</td>\n",
       "      <td>7678</td>\n",
       "      <td>7678</td>\n",
       "      <td>100.00</td>\n",
       "    </tr>\n",
       "    <tr>\n",
       "      <th>12</th>\n",
       "      <td>2008-09-01</td>\n",
       "      <td>2008-10-01</td>\n",
       "      <td>4132</td>\n",
       "      <td>7678</td>\n",
       "      <td>53.82</td>\n",
       "    </tr>\n",
       "    <tr>\n",
       "      <th>13</th>\n",
       "      <td>2008-09-01</td>\n",
       "      <td>2008-11-01</td>\n",
       "      <td>2966</td>\n",
       "      <td>7678</td>\n",
       "      <td>38.63</td>\n",
       "    </tr>\n",
       "    <tr>\n",
       "      <th>14</th>\n",
       "      <td>2008-09-01</td>\n",
       "      <td>2008-12-01</td>\n",
       "      <td>2500</td>\n",
       "      <td>7678</td>\n",
       "      <td>32.56</td>\n",
       "    </tr>\n",
       "    <tr>\n",
       "      <th>15</th>\n",
       "      <td>2008-10-01</td>\n",
       "      <td>2008-10-01</td>\n",
       "      <td>3629</td>\n",
       "      <td>3629</td>\n",
       "      <td>100.00</td>\n",
       "    </tr>\n",
       "    <tr>\n",
       "      <th>16</th>\n",
       "      <td>2008-10-01</td>\n",
       "      <td>2008-11-01</td>\n",
       "      <td>1640</td>\n",
       "      <td>3629</td>\n",
       "      <td>45.19</td>\n",
       "    </tr>\n",
       "    <tr>\n",
       "      <th>17</th>\n",
       "      <td>2008-10-01</td>\n",
       "      <td>2008-12-01</td>\n",
       "      <td>1221</td>\n",
       "      <td>3629</td>\n",
       "      <td>33.65</td>\n",
       "    </tr>\n",
       "    <tr>\n",
       "      <th>18</th>\n",
       "      <td>2008-11-01</td>\n",
       "      <td>2008-11-01</td>\n",
       "      <td>2852</td>\n",
       "      <td>2852</td>\n",
       "      <td>100.00</td>\n",
       "    </tr>\n",
       "    <tr>\n",
       "      <th>19</th>\n",
       "      <td>2008-11-01</td>\n",
       "      <td>2008-12-01</td>\n",
       "      <td>1151</td>\n",
       "      <td>2852</td>\n",
       "      <td>40.36</td>\n",
       "    </tr>\n",
       "    <tr>\n",
       "      <th>20</th>\n",
       "      <td>2008-12-01</td>\n",
       "      <td>2008-12-01</td>\n",
       "      <td>2536</td>\n",
       "      <td>2536</td>\n",
       "      <td>100.00</td>\n",
       "    </tr>\n",
       "  </tbody>\n",
       "</table>\n",
       "</div>"
      ],
      "text/plain": [
       "    cohort_dt session_date  users_cnt  cohort_users_cnt  retention_rate\n",
       "0  2008-07-01   2008-07-01          3                 3          100.00\n",
       "1  2008-07-01   2008-08-01          2                 3           66.67\n",
       "2  2008-07-01   2008-09-01          1                 3           33.33\n",
       "3  2008-07-01   2008-10-01          2                 3           66.67\n",
       "4  2008-07-01   2008-11-01          1                 3           33.33\n",
       "5  2008-07-01   2008-12-01          2                 3           66.67\n",
       "6  2008-08-01   2008-08-01       2151              2151          100.00\n",
       "7  2008-08-01   2008-09-01       1571              2151           73.04\n",
       "8  2008-08-01   2008-10-01       1275              2151           59.27\n",
       "9  2008-08-01   2008-11-01       1050              2151           48.81\n",
       "10 2008-08-01   2008-12-01        894              2151           41.56\n",
       "11 2008-09-01   2008-09-01       7678              7678          100.00\n",
       "12 2008-09-01   2008-10-01       4132              7678           53.82\n",
       "13 2008-09-01   2008-11-01       2966              7678           38.63\n",
       "14 2008-09-01   2008-12-01       2500              7678           32.56\n",
       "15 2008-10-01   2008-10-01       3629              3629          100.00\n",
       "16 2008-10-01   2008-11-01       1640              3629           45.19\n",
       "17 2008-10-01   2008-12-01       1221              3629           33.65\n",
       "18 2008-11-01   2008-11-01       2852              2852          100.00\n",
       "19 2008-11-01   2008-12-01       1151              2852           40.36\n",
       "20 2008-12-01   2008-12-01       2536              2536          100.00"
      ]
     },
     "execution_count": 18,
     "metadata": {},
     "output_type": "execute_result"
    }
   ],
   "source": [
    "# напишем запрос\n",
    "query = '''\n",
    "\n",
    "WITH profile AS\n",
    "\n",
    "(\n",
    "WITH temp AS\n",
    "(\n",
    "SELECT DISTINCT user_id,\n",
    "       FIRST_VALUE(DATE_TRUNC('month', creation_date)) OVER \n",
    "       (PARTITION BY user_id ORDER BY DATE_TRUNC('month', creation_date)) AS cohort_dt\n",
    "FROM stackoverflow.posts      \n",
    ")\n",
    "SELECT *,\n",
    "      COUNT(user_id) OVER (PARTITION BY cohort_dt) AS cohort_users_cnt\n",
    "FROM temp\n",
    "),\n",
    "\n",
    "sessions AS \n",
    "(\n",
    "SELECT user_id,\n",
    "       DATE_TRUNC('month', creation_date) AS session_date\n",
    "FROM stackoverflow.posts\n",
    "GROUP BY user_id, session_date)\n",
    "         \n",
    "         \n",
    "SELECT p.cohort_dt AS cohort_dt,\n",
    "       s.session_date,\n",
    "       COUNT(p.user_id) AS users_cnt,\n",
    "       p.cohort_users_cnt,\n",
    "       ROUND(COUNT(p.user_id) * 100.0 / cohort_users_cnt, 2) AS retention_rate\n",
    "FROM profile AS p\n",
    "JOIN sessions AS s \n",
    "ON p.user_id = s.user_id\n",
    "GROUP BY 1,\n",
    "         2,\n",
    "         4\n",
    "ORDER BY cohort_dt, session_date;\n",
    "'''\n",
    "\n",
    "# выполнитм запрос\n",
    "\n",
    "retention_rate=pd.read_sql_query(query, con=engine)\n",
    "\n",
    "retention_rate"
   ]
  },
  {
   "cell_type": "code",
   "execution_count": 19,
   "metadata": {
    "id": "qAEJc8H1DWLC"
   },
   "outputs": [],
   "source": [
    "# построим тепловую карту Retention Rate"
   ]
  },
  {
   "cell_type": "code",
   "execution_count": 20,
   "metadata": {},
   "outputs": [
    {
     "data": {
      "image/png": "[encoded data removed]",
      "text/plain": [
       "<Figure size 720x720 with 2 Axes>"
      ]
     },
     "metadata": {
      "needs_background": "light"
     },
     "output_type": "display_data"
    }
   ],
   "source": [
    "retention = retention_rate.pivot('cohort_dt', 'session_date', 'retention_rate')\n",
    "retention.index = [str(x)[0:10] for x in retention.index]\n",
    "retention.columns = [str(x)[0:10] for x in retention.columns]\n",
    "plt.figure(figsize=(10, 10)) \n",
    "sns.heatmap(retention, \n",
    "            annot=True, \n",
    "            fmt='') \n",
    "plt.title('Тепловая карта')\n",
    "plt.xlabel('session_date(месяцы активности)')\n",
    "plt.ylabel('cohort_dt(когорты)')\n",
    "plt.show()"
   ]
  },
  {
   "cell_type": "markdown",
   "metadata": {
    "id": "EgOfIsI4DWLC"
   },
   "source": [
    "**Самый высокий коэффициент удержания был в сентябре по отношению к августу, также достаточно высокие в августе по отношению к июлю, в октябре по отношению к июлю и в декабре по отношению к июлю, а самые низкие показатели (33 %) были в сентябре по отношению к июлю, в ноябре по отношению к июлю, в декабре по отношению к сентябрю и в декабре по отношению к октябрю.\n",
    "Если смотреть динамику по когортам, то в июльской когорте от месяца к месяцу чередуются самые высокие показатели удержания с самыми низкими, при этом, по таблице мы видим, что количество пользователей в целом очень низкое, и количество вернувшихся колеблется от 1-3 человек, поэтому зависимость коэффициента удержания очень чувствительная. Это был период теста платформы, поэтому, данные не показательны. В августовской когорте, а также в сентябрьской и октябрьской - идет постепенное уменьшение коэффициента удержания, вероятно интерес к площадке у пользователей ослабевал**"
   ]
  },
  {
   "cell_type": "markdown",
   "metadata": {
    "id": "1k7oPWt5DWLK"
   },
   "source": [
    "# Задание 9\n"
   ]
  },
  {
   "cell_type": "markdown",
   "metadata": {
    "id": "ALsYVSyRDWLM"
   },
   "source": [
    "На сколько процентов менялось количество постов ежемесячно с 1 сентября по 31 декабря 2008 года? Отобразим таблицу со следующими полями:\n",
    "\n",
    "- номер месяца;\n",
    "- количество постов за месяц;\n",
    "- процент, который показывает, насколько изменилось количество постов в текущем месяце по сравнению с предыдущим.\n",
    "\n",
    "Если постов стало меньше, значение процента должно быть отрицательным, если больше — положительным. Округлим значение процента до двух знаков после запятой.\n",
    "\n",
    "В связи с тем, что при делении одного целого числа на другое в PostgreSQL в результате получится целое число, округлённое до ближайшего целого вниз, переведем делимое в тип `numeric`."
   ]
  },
  {
   "cell_type": "code",
   "execution_count": 21,
   "metadata": {
    "id": "Mb5pShStDWLN",
    "scrolled": true
   },
   "outputs": [
    {
     "data": {
      "text/html": [
       "<div>\n",
       "<style scoped>\n",
       "    .dataframe tbody tr th:only-of-type {\n",
       "        vertical-align: middle;\n",
       "    }\n",
       "\n",
       "    .dataframe tbody tr th {\n",
       "        vertical-align: top;\n",
       "    }\n",
       "\n",
       "    .dataframe thead th {\n",
       "        text-align: right;\n",
       "    }\n",
       "</style>\n",
       "<table border=\"1\" class=\"dataframe\">\n",
       "  <thead>\n",
       "    <tr style=\"text-align: right;\">\n",
       "      <th></th>\n",
       "      <th>creation_month</th>\n",
       "      <th>posts_count</th>\n",
       "      <th>round</th>\n",
       "    </tr>\n",
       "  </thead>\n",
       "  <tbody>\n",
       "    <tr>\n",
       "      <th>0</th>\n",
       "      <td>9</td>\n",
       "      <td>70371</td>\n",
       "      <td>NaN</td>\n",
       "    </tr>\n",
       "    <tr>\n",
       "      <th>1</th>\n",
       "      <td>10</td>\n",
       "      <td>63102</td>\n",
       "      <td>-10.33</td>\n",
       "    </tr>\n",
       "    <tr>\n",
       "      <th>2</th>\n",
       "      <td>11</td>\n",
       "      <td>46975</td>\n",
       "      <td>-25.56</td>\n",
       "    </tr>\n",
       "    <tr>\n",
       "      <th>3</th>\n",
       "      <td>12</td>\n",
       "      <td>44592</td>\n",
       "      <td>-5.07</td>\n",
       "    </tr>\n",
       "  </tbody>\n",
       "</table>\n",
       "</div>"
      ],
      "text/plain": [
       "   creation_month  posts_count  round\n",
       "0               9        70371    NaN\n",
       "1              10        63102 -10.33\n",
       "2              11        46975 -25.56\n",
       "3              12        44592  -5.07"
      ]
     },
     "execution_count": 21,
     "metadata": {},
     "output_type": "execute_result"
    }
   ],
   "source": [
    "# напишем запрос\n",
    "query = '''\n",
    "\n",
    "WITH count_posts AS\n",
    "(\n",
    "SELECT EXTRACT(MONTH FROM creation_date)::int AS creation_month,\n",
    "       COUNT(id) AS posts_count\n",
    "FROM stackoverflow.posts\n",
    "WHERE EXTRACT(MONTH FROM creation_date)::int BETWEEN 9 AND 12\n",
    "GROUP BY creation_month\n",
    ")\n",
    "SELECT *,\n",
    "       ROUND((posts_count::numeric/LAG(posts_count) OVER()-1)*100, 2)\n",
    "FROM count_posts;\n",
    "\n",
    "'''\n",
    "\n",
    "\n",
    "# выполним запрос\n",
    "\n",
    "\n",
    "\n",
    "count_posts=pd.read_sql_query(query, con=engine)\n",
    "\n",
    "count_posts.head(7)"
   ]
  },
  {
   "cell_type": "markdown",
   "metadata": {
    "id": "9NQE2y_MDWLP"
   },
   "source": [
    "Построим круговую диаграмму с количеством постов по месяцам."
   ]
  },
  {
   "cell_type": "code",
   "execution_count": 22,
   "metadata": {},
   "outputs": [
    {
     "data": {
      "image/png": "[encoded data removed]",
      "text/plain": [
       "<Figure size 720x504 with 1 Axes>"
      ]
     },
     "metadata": {},
     "output_type": "display_data"
    }
   ],
   "source": [
    "month = ['sept', 'oct', 'nov',\n",
    "        'dec']\n",
    " \n",
    "data = count_posts['posts_count']\n",
    " \n",
    "\n",
    "fig = plt.figure(figsize =(10, 7))\n",
    "plt.pie(data, labels = month, autopct='%1.1f%%')\n",
    "plt.title('Круговая диаграмма с количеством постов по месяцам')\n",
    " \n",
    "\n",
    "plt.show()"
   ]
  },
  {
   "cell_type": "markdown",
   "metadata": {
    "id": "377ABjiVDWLP"
   },
   "source": [
    "**Наглядно видим, что в сентябре было самое большое количество постов**"
   ]
  },
  {
   "cell_type": "markdown",
   "metadata": {
    "id": "uw7qMtafDWLP"
   },
   "source": [
    "# Задание 10"
   ]
  },
  {
   "cell_type": "markdown",
   "metadata": {
    "id": "oRBpWKx3DWLQ"
   },
   "source": [
    "Выгрузим данные активности пользователя, который опубликовал больше всего постов за всё время. Выведем данные за октябрь 2008 года в таком виде:\n",
    "\n",
    "- номер недели;\n",
    "- дата и время последнего поста, опубликованного на этой неделе."
   ]
  },
  {
   "cell_type": "code",
   "execution_count": 23,
   "metadata": {
    "id": "r5F5fSkwDWLQ",
    "scrolled": true
   },
   "outputs": [
    {
     "data": {
      "text/html": [
       "<div>\n",
       "<style scoped>\n",
       "    .dataframe tbody tr th:only-of-type {\n",
       "        vertical-align: middle;\n",
       "    }\n",
       "\n",
       "    .dataframe tbody tr th {\n",
       "        vertical-align: top;\n",
       "    }\n",
       "\n",
       "    .dataframe thead th {\n",
       "        text-align: right;\n",
       "    }\n",
       "</style>\n",
       "<table border=\"1\" class=\"dataframe\">\n",
       "  <thead>\n",
       "    <tr style=\"text-align: right;\">\n",
       "      <th></th>\n",
       "      <th>week_creation</th>\n",
       "      <th>creation_date</th>\n",
       "    </tr>\n",
       "  </thead>\n",
       "  <tbody>\n",
       "    <tr>\n",
       "      <th>0</th>\n",
       "      <td>40</td>\n",
       "      <td>2008-10-05 09:00:58</td>\n",
       "    </tr>\n",
       "    <tr>\n",
       "      <th>1</th>\n",
       "      <td>41</td>\n",
       "      <td>2008-10-12 21:22:23</td>\n",
       "    </tr>\n",
       "    <tr>\n",
       "      <th>2</th>\n",
       "      <td>42</td>\n",
       "      <td>2008-10-19 06:49:30</td>\n",
       "    </tr>\n",
       "    <tr>\n",
       "      <th>3</th>\n",
       "      <td>43</td>\n",
       "      <td>2008-10-26 21:44:36</td>\n",
       "    </tr>\n",
       "    <tr>\n",
       "      <th>4</th>\n",
       "      <td>44</td>\n",
       "      <td>2008-10-31 22:16:01</td>\n",
       "    </tr>\n",
       "  </tbody>\n",
       "</table>\n",
       "</div>"
      ],
      "text/plain": [
       "   week_creation       creation_date\n",
       "0             40 2008-10-05 09:00:58\n",
       "1             41 2008-10-12 21:22:23\n",
       "2             42 2008-10-19 06:49:30\n",
       "3             43 2008-10-26 21:44:36\n",
       "4             44 2008-10-31 22:16:01"
      ]
     },
     "execution_count": 23,
     "metadata": {},
     "output_type": "execute_result"
    }
   ],
   "source": [
    "# напишем запрос\n",
    "query = '''\n",
    "WITH active_user AS\n",
    "(\n",
    "SELECT user_id,\n",
    "       COUNT(id)\n",
    "FROM stackoverflow.posts\n",
    "GROUP BY user_id\n",
    "ORDER BY COUNT(id) DESC\n",
    "LIMIT 1\n",
    ")\n",
    "SELECT EXTRACT(WEEK FROM p.creation_date)::int AS week_creation,\n",
    "       MAX(p.creation_date) AS creation_date\n",
    "FROM active_user AS au\n",
    "JOIN stackoverflow.posts AS p\n",
    "ON au.user_id=p.user_id\n",
    "WHERE DATE_TRUNC('month', p.creation_date)::date = '2008-10-01'\n",
    "GROUP BY week_creation;\n",
    "'''\n",
    "\n",
    "# выполним запрос\n",
    "\n",
    "activ_user=pd.read_sql_query(query, con=engine)\n",
    "\n",
    "activ_user.head(7)"
   ]
  }
 ],
 "metadata": {
  "ExecuteTimeLog": [
   {
    "duration": 2727,
    "start_time": "2023-12-04T15:28:24.864Z"
   },
   {
    "duration": 895,
    "start_time": "2023-12-04T15:29:35.824Z"
   },
   {
    "duration": 4,
    "start_time": "2023-12-04T15:29:58.032Z"
   },
   {
    "duration": 9923,
    "start_time": "2023-12-04T15:30:18.177Z"
   },
   {
    "duration": 43,
    "start_time": "2023-12-04T15:30:54.781Z"
   },
   {
    "duration": 2,
    "start_time": "2023-12-04T15:39:41.245Z"
   },
   {
    "duration": 793,
    "start_time": "2023-12-04T15:40:50.740Z"
   },
   {
    "duration": 701,
    "start_time": "2023-12-04T15:41:04.586Z"
   },
   {
    "duration": 154,
    "start_time": "2023-12-04T15:42:09.370Z"
   },
   {
    "duration": 91,
    "start_time": "2023-12-04T15:42:31.732Z"
   },
   {
    "duration": 906,
    "start_time": "2023-12-04T15:42:39.624Z"
   },
   {
    "duration": 106,
    "start_time": "2023-12-04T15:43:12.561Z"
   },
   {
    "duration": 902,
    "start_time": "2023-12-04T15:43:36.926Z"
   },
   {
    "duration": 866,
    "start_time": "2023-12-04T15:45:29.988Z"
   },
   {
    "duration": 76,
    "start_time": "2023-12-04T15:46:42.899Z"
   },
   {
    "duration": 2654,
    "start_time": "2023-12-05T08:11:32.581Z"
   },
   {
    "duration": 900,
    "start_time": "2023-12-05T08:11:35.237Z"
   },
   {
    "duration": 4,
    "start_time": "2023-12-05T08:11:36.139Z"
   },
   {
    "duration": 8820,
    "start_time": "2023-12-05T08:11:36.145Z"
   },
   {
    "duration": 219,
    "start_time": "2023-12-05T08:11:44.967Z"
   },
   {
    "duration": 14,
    "start_time": "2023-12-05T08:11:45.187Z"
   },
   {
    "duration": 207,
    "start_time": "2023-12-05T08:11:45.202Z"
   },
   {
    "duration": 184,
    "start_time": "2023-12-05T08:18:34.826Z"
   },
   {
    "duration": 186,
    "start_time": "2023-12-05T08:19:09.124Z"
   },
   {
    "duration": 179,
    "start_time": "2023-12-05T08:19:32.902Z"
   },
   {
    "duration": 3,
    "start_time": "2023-12-05T09:04:43.090Z"
   },
   {
    "duration": 141,
    "start_time": "2023-12-05T09:05:27.362Z"
   },
   {
    "duration": 131,
    "start_time": "2023-12-05T09:07:05.422Z"
   },
   {
    "duration": 140,
    "start_time": "2023-12-05T09:07:45.919Z"
   },
   {
    "duration": 141,
    "start_time": "2023-12-05T09:08:17.123Z"
   },
   {
    "duration": 125,
    "start_time": "2023-12-05T09:13:14.163Z"
   },
   {
    "duration": 150,
    "start_time": "2023-12-05T09:13:33.201Z"
   },
   {
    "duration": 170,
    "start_time": "2023-12-05T09:14:59.520Z"
   },
   {
    "duration": 297,
    "start_time": "2023-12-05T09:16:00.458Z"
   },
   {
    "duration": 138,
    "start_time": "2023-12-05T09:16:23.656Z"
   },
   {
    "duration": 133,
    "start_time": "2023-12-05T09:17:58.029Z"
   },
   {
    "duration": 206,
    "start_time": "2023-12-05T09:24:37.175Z"
   },
   {
    "duration": 97,
    "start_time": "2023-12-05T09:25:03.038Z"
   },
   {
    "duration": 134,
    "start_time": "2023-12-05T09:25:20.795Z"
   },
   {
    "duration": 84,
    "start_time": "2023-12-05T09:26:38.506Z"
   },
   {
    "duration": 156,
    "start_time": "2023-12-05T09:34:06.114Z"
   },
   {
    "duration": 119,
    "start_time": "2023-12-05T09:34:28.039Z"
   },
   {
    "duration": 205,
    "start_time": "2023-12-05T09:40:02.721Z"
   },
   {
    "duration": 192,
    "start_time": "2023-12-05T09:42:03.416Z"
   },
   {
    "duration": 127,
    "start_time": "2023-12-05T09:42:38.168Z"
   },
   {
    "duration": 134,
    "start_time": "2023-12-05T09:43:20.196Z"
   },
   {
    "duration": 133,
    "start_time": "2023-12-05T09:51:39.307Z"
   },
   {
    "duration": 126,
    "start_time": "2023-12-05T09:53:42.533Z"
   },
   {
    "duration": 206,
    "start_time": "2023-12-05T09:54:11.487Z"
   },
   {
    "duration": 213,
    "start_time": "2023-12-05T09:54:19.968Z"
   },
   {
    "duration": 121,
    "start_time": "2023-12-05T09:54:50.596Z"
   },
   {
    "duration": 106,
    "start_time": "2023-12-05T09:55:00.830Z"
   },
   {
    "duration": 204,
    "start_time": "2023-12-05T09:55:07.653Z"
   },
   {
    "duration": 140,
    "start_time": "2023-12-05T09:59:00.064Z"
   },
   {
    "duration": 77,
    "start_time": "2023-12-05T10:01:11.325Z"
   },
   {
    "duration": 95,
    "start_time": "2023-12-05T10:03:23.259Z"
   },
   {
    "duration": 215,
    "start_time": "2023-12-05T10:03:36.799Z"
   },
   {
    "duration": 12,
    "start_time": "2023-12-05T10:04:06.093Z"
   },
   {
    "duration": 18,
    "start_time": "2023-12-05T10:04:58.574Z"
   },
   {
    "duration": 9,
    "start_time": "2023-12-05T10:08:14.571Z"
   },
   {
    "duration": 13,
    "start_time": "2023-12-05T10:10:46.827Z"
   },
   {
    "duration": 161,
    "start_time": "2023-12-05T10:19:33.952Z"
   },
   {
    "duration": 137,
    "start_time": "2023-12-05T10:20:16.719Z"
   },
   {
    "duration": 223,
    "start_time": "2023-12-05T10:22:20.326Z"
   },
   {
    "duration": 11,
    "start_time": "2023-12-05T10:22:26.288Z"
   },
   {
    "duration": 220,
    "start_time": "2023-12-05T10:23:02.189Z"
   },
   {
    "duration": 10,
    "start_time": "2023-12-05T10:23:04.962Z"
   },
   {
    "duration": 155,
    "start_time": "2023-12-05T10:23:34.922Z"
   },
   {
    "duration": 124,
    "start_time": "2023-12-05T10:24:06.200Z"
   },
   {
    "duration": 173,
    "start_time": "2023-12-05T10:28:11.239Z"
   },
   {
    "duration": 187,
    "start_time": "2023-12-05T10:28:40.933Z"
   },
   {
    "duration": 158,
    "start_time": "2023-12-05T10:32:08.290Z"
   },
   {
    "duration": 142,
    "start_time": "2023-12-05T10:32:16.103Z"
   },
   {
    "duration": 129,
    "start_time": "2023-12-05T10:32:34.117Z"
   },
   {
    "duration": 307,
    "start_time": "2023-12-05T10:34:32.154Z"
   },
   {
    "duration": 125,
    "start_time": "2023-12-05T10:36:08.592Z"
   },
   {
    "duration": 109,
    "start_time": "2023-12-05T10:36:34.970Z"
   },
   {
    "duration": 168,
    "start_time": "2023-12-05T10:45:10.949Z"
   },
   {
    "duration": 163,
    "start_time": "2023-12-05T10:45:32.596Z"
   },
   {
    "duration": 178,
    "start_time": "2023-12-05T10:54:11.818Z"
   },
   {
    "duration": 128,
    "start_time": "2023-12-05T10:57:01.052Z"
   },
   {
    "duration": 185,
    "start_time": "2023-12-05T11:00:38.453Z"
   },
   {
    "duration": 168,
    "start_time": "2023-12-05T11:00:56.780Z"
   },
   {
    "duration": 126,
    "start_time": "2023-12-05T11:01:02.907Z"
   },
   {
    "duration": 125,
    "start_time": "2023-12-05T11:05:24.458Z"
   },
   {
    "duration": 222,
    "start_time": "2023-12-05T11:05:57.767Z"
   },
   {
    "duration": 136,
    "start_time": "2023-12-05T11:06:03.443Z"
   },
   {
    "duration": 129,
    "start_time": "2023-12-05T11:07:12.109Z"
   },
   {
    "duration": 143,
    "start_time": "2023-12-05T11:08:05.972Z"
   },
   {
    "duration": 106,
    "start_time": "2023-12-05T11:08:25.834Z"
   },
   {
    "duration": 71,
    "start_time": "2023-12-05T11:47:40.854Z"
   },
   {
    "duration": 144,
    "start_time": "2023-12-05T11:47:50.980Z"
   },
   {
    "duration": 16,
    "start_time": "2023-12-05T11:48:15.889Z"
   },
   {
    "duration": 100,
    "start_time": "2023-12-05T11:49:31.082Z"
   },
   {
    "duration": 138,
    "start_time": "2023-12-05T11:50:37.287Z"
   },
   {
    "duration": 2,
    "start_time": "2023-12-05T11:59:37.364Z"
   },
   {
    "duration": 1230,
    "start_time": "2023-12-05T12:00:49.620Z"
   },
   {
    "duration": 1080,
    "start_time": "2023-12-05T12:02:44.569Z"
   },
   {
    "duration": 1179,
    "start_time": "2023-12-05T12:03:39.101Z"
   },
   {
    "duration": 120,
    "start_time": "2023-12-05T12:06:57.641Z"
   },
   {
    "duration": 1328,
    "start_time": "2023-12-05T12:07:10.034Z"
   },
   {
    "duration": 131,
    "start_time": "2023-12-05T12:07:54.674Z"
   },
   {
    "duration": 1195,
    "start_time": "2023-12-05T12:08:03.166Z"
   },
   {
    "duration": 1203,
    "start_time": "2023-12-05T12:09:25.279Z"
   },
   {
    "duration": 1243,
    "start_time": "2023-12-05T12:09:38.864Z"
   },
   {
    "duration": 1102,
    "start_time": "2023-12-05T12:10:10.198Z"
   },
   {
    "duration": 3,
    "start_time": "2023-12-05T12:35:54.845Z"
   },
   {
    "duration": 139,
    "start_time": "2023-12-05T12:36:20.529Z"
   },
   {
    "duration": 132,
    "start_time": "2023-12-05T12:44:40.898Z"
   },
   {
    "duration": 123,
    "start_time": "2023-12-05T12:45:08.812Z"
   },
   {
    "duration": 169,
    "start_time": "2023-12-05T12:50:49.825Z"
   },
   {
    "duration": 119,
    "start_time": "2023-12-05T12:52:10.259Z"
   },
   {
    "duration": 128,
    "start_time": "2023-12-05T12:52:49.825Z"
   },
   {
    "duration": 108,
    "start_time": "2023-12-05T12:53:04.912Z"
   },
   {
    "duration": 94,
    "start_time": "2023-12-05T12:53:25.966Z"
   },
   {
    "duration": 76,
    "start_time": "2023-12-05T12:56:14.257Z"
   },
   {
    "duration": 74,
    "start_time": "2023-12-05T12:56:35.170Z"
   },
   {
    "duration": 97,
    "start_time": "2023-12-05T12:57:40.238Z"
   },
   {
    "duration": 150,
    "start_time": "2023-12-05T12:58:37.895Z"
   },
   {
    "duration": 72,
    "start_time": "2023-12-05T12:59:53.079Z"
   },
   {
    "duration": 196,
    "start_time": "2023-12-05T13:03:24.110Z"
   },
   {
    "duration": 72,
    "start_time": "2023-12-05T13:12:48.348Z"
   },
   {
    "duration": 120,
    "start_time": "2023-12-05T13:12:53.924Z"
   },
   {
    "duration": 158,
    "start_time": "2023-12-05T13:14:56.222Z"
   },
   {
    "duration": 121,
    "start_time": "2023-12-05T13:15:51.005Z"
   },
   {
    "duration": 67,
    "start_time": "2023-12-05T13:25:52.595Z"
   },
   {
    "duration": 138,
    "start_time": "2023-12-05T13:36:45.796Z"
   },
   {
    "duration": 131,
    "start_time": "2023-12-05T13:38:29.195Z"
   },
   {
    "duration": 144,
    "start_time": "2023-12-05T13:39:16.042Z"
   },
   {
    "duration": 124,
    "start_time": "2023-12-05T13:39:39.714Z"
   },
   {
    "duration": 181,
    "start_time": "2023-12-05T13:44:35.508Z"
   },
   {
    "duration": 154,
    "start_time": "2023-12-05T13:46:37.501Z"
   },
   {
    "duration": 1060,
    "start_time": "2023-12-05T13:47:45.442Z"
   },
   {
    "duration": 168,
    "start_time": "2023-12-05T13:58:21.137Z"
   },
   {
    "duration": 127,
    "start_time": "2023-12-05T13:59:25.762Z"
   },
   {
    "duration": 1062,
    "start_time": "2023-12-05T13:59:52.936Z"
   },
   {
    "duration": 1270,
    "start_time": "2023-12-05T14:01:24.423Z"
   },
   {
    "duration": 1184,
    "start_time": "2023-12-05T14:01:34.036Z"
   },
   {
    "duration": 2714,
    "start_time": "2023-12-06T06:31:37.388Z"
   },
   {
    "duration": 918,
    "start_time": "2023-12-06T06:31:40.104Z"
   },
   {
    "duration": 3,
    "start_time": "2023-12-06T06:31:41.024Z"
   },
   {
    "duration": 8612,
    "start_time": "2023-12-06T06:31:41.029Z"
   },
   {
    "duration": 220,
    "start_time": "2023-12-06T06:31:49.642Z"
   },
   {
    "duration": 15,
    "start_time": "2023-12-06T06:31:49.864Z"
   },
   {
    "duration": 195,
    "start_time": "2023-12-06T06:31:49.881Z"
   },
   {
    "duration": 197,
    "start_time": "2023-12-06T06:31:50.078Z"
   },
   {
    "duration": 13,
    "start_time": "2023-12-06T06:31:50.277Z"
   },
   {
    "duration": 135,
    "start_time": "2023-12-06T06:31:50.292Z"
   },
   {
    "duration": 10,
    "start_time": "2023-12-06T06:31:50.429Z"
   },
   {
    "duration": 113,
    "start_time": "2023-12-06T06:31:50.440Z"
   },
   {
    "duration": 1226,
    "start_time": "2023-12-06T06:31:50.554Z"
   },
   {
    "duration": 120,
    "start_time": "2023-12-06T06:31:51.782Z"
   },
   {
    "duration": 62,
    "start_time": "2023-12-06T06:31:51.904Z"
   },
   {
    "duration": 1161,
    "start_time": "2023-12-06T06:31:51.967Z"
   },
   {
    "duration": 5,
    "start_time": "2023-12-06T07:17:46.218Z"
   },
   {
    "duration": 223,
    "start_time": "2023-12-06T07:18:12.296Z"
   },
   {
    "duration": 47,
    "start_time": "2023-12-06T07:20:05.481Z"
   },
   {
    "duration": 2384,
    "start_time": "2023-12-06T07:20:10.461Z"
   },
   {
    "duration": 732,
    "start_time": "2023-12-06T07:20:12.847Z"
   },
   {
    "duration": 3,
    "start_time": "2023-12-06T07:20:13.581Z"
   },
   {
    "duration": 10922,
    "start_time": "2023-12-06T07:20:13.586Z"
   },
   {
    "duration": 209,
    "start_time": "2023-12-06T07:20:24.509Z"
   },
   {
    "duration": 20,
    "start_time": "2023-12-06T07:20:24.720Z"
   },
   {
    "duration": 180,
    "start_time": "2023-12-06T07:20:24.742Z"
   },
   {
    "duration": 202,
    "start_time": "2023-12-06T07:20:24.924Z"
   },
   {
    "duration": 11,
    "start_time": "2023-12-06T07:20:25.128Z"
   },
   {
    "duration": 135,
    "start_time": "2023-12-06T07:20:25.141Z"
   },
   {
    "duration": 11,
    "start_time": "2023-12-06T07:20:25.277Z"
   },
   {
    "duration": 121,
    "start_time": "2023-12-06T07:20:25.290Z"
   },
   {
    "duration": 1251,
    "start_time": "2023-12-06T07:20:25.413Z"
   },
   {
    "duration": 115,
    "start_time": "2023-12-06T07:20:26.665Z"
   },
   {
    "duration": 60,
    "start_time": "2023-12-06T07:20:26.781Z"
   },
   {
    "duration": 1267,
    "start_time": "2023-12-06T07:20:26.843Z"
   },
   {
    "duration": 46,
    "start_time": "2023-12-06T07:21:33.664Z"
   },
   {
    "duration": 8,
    "start_time": "2023-12-06T07:23:07.758Z"
   },
   {
    "duration": 2330,
    "start_time": "2023-12-06T07:23:11.724Z"
   },
   {
    "duration": 714,
    "start_time": "2023-12-06T07:23:14.057Z"
   },
   {
    "duration": 4,
    "start_time": "2023-12-06T07:23:14.773Z"
   },
   {
    "duration": 9503,
    "start_time": "2023-12-06T07:23:14.780Z"
   },
   {
    "duration": 221,
    "start_time": "2023-12-06T07:23:24.284Z"
   },
   {
    "duration": 13,
    "start_time": "2023-12-06T07:23:24.507Z"
   },
   {
    "duration": 182,
    "start_time": "2023-12-06T07:23:24.521Z"
   },
   {
    "duration": 199,
    "start_time": "2023-12-06T07:23:24.705Z"
   },
   {
    "duration": 13,
    "start_time": "2023-12-06T07:23:24.905Z"
   },
   {
    "duration": 136,
    "start_time": "2023-12-06T07:23:24.920Z"
   },
   {
    "duration": 15,
    "start_time": "2023-12-06T07:23:25.057Z"
   },
   {
    "duration": 102,
    "start_time": "2023-12-06T07:23:25.073Z"
   },
   {
    "duration": 1196,
    "start_time": "2023-12-06T07:23:25.176Z"
   },
   {
    "duration": 115,
    "start_time": "2023-12-06T07:23:26.374Z"
   },
   {
    "duration": 62,
    "start_time": "2023-12-06T07:23:26.491Z"
   },
   {
    "duration": 1179,
    "start_time": "2023-12-06T07:23:26.554Z"
   },
   {
    "duration": 168,
    "start_time": "2023-12-06T07:23:27.734Z"
   },
   {
    "duration": 125,
    "start_time": "2023-12-06T07:24:10.306Z"
   },
   {
    "duration": 4925,
    "start_time": "2023-12-06T07:25:08.147Z"
   },
   {
    "duration": 136,
    "start_time": "2023-12-06T07:30:38.842Z"
   },
   {
    "duration": 133,
    "start_time": "2023-12-06T07:31:03.330Z"
   },
   {
    "duration": 4623,
    "start_time": "2023-12-06T07:31:22.444Z"
   },
   {
    "duration": 649,
    "start_time": "2023-12-06T07:35:27.714Z"
   },
   {
    "duration": 131,
    "start_time": "2023-12-06T07:39:34.035Z"
   },
   {
    "duration": 692,
    "start_time": "2023-12-06T07:39:58.399Z"
   },
   {
    "duration": 190,
    "start_time": "2023-12-06T08:10:14.928Z"
   },
   {
    "duration": 129,
    "start_time": "2023-12-06T08:10:47.546Z"
   },
   {
    "duration": 128,
    "start_time": "2023-12-06T08:11:33.577Z"
   },
   {
    "duration": 126,
    "start_time": "2023-12-06T08:13:09.993Z"
   },
   {
    "duration": 154,
    "start_time": "2023-12-06T08:14:38.691Z"
   },
   {
    "duration": 138,
    "start_time": "2023-12-06T08:17:06.465Z"
   },
   {
    "duration": 158,
    "start_time": "2023-12-06T08:18:33.990Z"
   },
   {
    "duration": 143,
    "start_time": "2023-12-06T08:19:24.977Z"
   },
   {
    "duration": 127,
    "start_time": "2023-12-06T08:19:54.711Z"
   },
   {
    "duration": 148,
    "start_time": "2023-12-06T08:23:01.953Z"
   },
   {
    "duration": 127,
    "start_time": "2023-12-06T08:24:32.312Z"
   },
   {
    "duration": 127,
    "start_time": "2023-12-06T08:24:53.135Z"
   },
   {
    "duration": 141,
    "start_time": "2023-12-06T08:28:09.460Z"
   },
   {
    "duration": 133,
    "start_time": "2023-12-06T08:31:30.921Z"
   },
   {
    "duration": 118,
    "start_time": "2023-12-06T08:31:58.273Z"
   },
   {
    "duration": 118,
    "start_time": "2023-12-06T08:34:12.812Z"
   },
   {
    "duration": 468,
    "start_time": "2023-12-06T08:37:26.518Z"
   },
   {
    "duration": 114,
    "start_time": "2023-12-06T08:37:59.622Z"
   },
   {
    "duration": 460,
    "start_time": "2023-12-06T08:38:36.941Z"
   },
   {
    "duration": 9,
    "start_time": "2023-12-06T08:40:07.833Z"
   },
   {
    "duration": 16,
    "start_time": "2023-12-06T08:40:29.731Z"
   },
   {
    "duration": 96,
    "start_time": "2023-12-06T08:40:48.147Z"
   },
   {
    "duration": 73,
    "start_time": "2023-12-06T08:40:59.401Z"
   },
   {
    "duration": 2372,
    "start_time": "2023-12-06T08:41:58.765Z"
   },
   {
    "duration": 69,
    "start_time": "2023-12-06T08:42:01.139Z"
   },
   {
    "duration": 0,
    "start_time": "2023-12-06T08:42:01.211Z"
   },
   {
    "duration": 0,
    "start_time": "2023-12-06T08:42:01.212Z"
   },
   {
    "duration": 0,
    "start_time": "2023-12-06T08:42:01.213Z"
   },
   {
    "duration": 0,
    "start_time": "2023-12-06T08:42:01.214Z"
   },
   {
    "duration": 0,
    "start_time": "2023-12-06T08:42:01.215Z"
   },
   {
    "duration": 0,
    "start_time": "2023-12-06T08:42:01.216Z"
   },
   {
    "duration": 0,
    "start_time": "2023-12-06T08:42:01.216Z"
   },
   {
    "duration": 0,
    "start_time": "2023-12-06T08:42:01.218Z"
   },
   {
    "duration": 0,
    "start_time": "2023-12-06T08:42:01.219Z"
   },
   {
    "duration": 0,
    "start_time": "2023-12-06T08:42:01.220Z"
   },
   {
    "duration": 0,
    "start_time": "2023-12-06T08:42:01.221Z"
   },
   {
    "duration": 0,
    "start_time": "2023-12-06T08:42:01.221Z"
   },
   {
    "duration": 0,
    "start_time": "2023-12-06T08:42:01.222Z"
   },
   {
    "duration": 0,
    "start_time": "2023-12-06T08:42:01.223Z"
   },
   {
    "duration": 0,
    "start_time": "2023-12-06T08:42:01.224Z"
   },
   {
    "duration": 0,
    "start_time": "2023-12-06T08:42:01.225Z"
   },
   {
    "duration": 0,
    "start_time": "2023-12-06T08:42:01.226Z"
   },
   {
    "duration": 483,
    "start_time": "2023-12-06T08:42:26.699Z"
   },
   {
    "duration": 2347,
    "start_time": "2023-12-06T08:42:35.510Z"
   },
   {
    "duration": 3,
    "start_time": "2023-12-06T08:42:37.859Z"
   },
   {
    "duration": 4,
    "start_time": "2023-12-06T08:42:37.864Z"
   },
   {
    "duration": 31,
    "start_time": "2023-12-06T08:42:37.870Z"
   },
   {
    "duration": 219,
    "start_time": "2023-12-06T08:42:37.902Z"
   },
   {
    "duration": 13,
    "start_time": "2023-12-06T08:42:38.123Z"
   },
   {
    "duration": 187,
    "start_time": "2023-12-06T08:42:38.138Z"
   },
   {
    "duration": 195,
    "start_time": "2023-12-06T08:42:38.326Z"
   },
   {
    "duration": 11,
    "start_time": "2023-12-06T08:42:38.523Z"
   },
   {
    "duration": 158,
    "start_time": "2023-12-06T08:42:38.537Z"
   },
   {
    "duration": 10,
    "start_time": "2023-12-06T08:42:38.697Z"
   },
   {
    "duration": 123,
    "start_time": "2023-12-06T08:42:38.708Z"
   },
   {
    "duration": 1255,
    "start_time": "2023-12-06T08:42:38.833Z"
   },
   {
    "duration": 117,
    "start_time": "2023-12-06T08:42:40.089Z"
   },
   {
    "duration": 61,
    "start_time": "2023-12-06T08:42:40.208Z"
   },
   {
    "duration": 1143,
    "start_time": "2023-12-06T08:42:40.271Z"
   },
   {
    "duration": 449,
    "start_time": "2023-12-06T08:42:41.416Z"
   },
   {
    "duration": 3,
    "start_time": "2023-12-06T08:42:41.866Z"
   },
   {
    "duration": 454,
    "start_time": "2023-12-06T08:42:41.871Z"
   },
   {
    "duration": 151,
    "start_time": "2023-12-06T08:54:53.531Z"
   },
   {
    "duration": 111,
    "start_time": "2023-12-06T08:55:04.042Z"
   },
   {
    "duration": 12,
    "start_time": "2023-12-06T08:56:32.366Z"
   },
   {
    "duration": 10,
    "start_time": "2023-12-06T08:58:51.981Z"
   },
   {
    "duration": 78,
    "start_time": "2023-12-06T09:02:33.405Z"
   },
   {
    "duration": 85,
    "start_time": "2023-12-06T09:03:17.448Z"
   },
   {
    "duration": 2,
    "start_time": "2023-12-06T09:03:45.437Z"
   },
   {
    "duration": 132,
    "start_time": "2023-12-06T09:04:26.015Z"
   },
   {
    "duration": 2362,
    "start_time": "2023-12-06T09:05:04.772Z"
   },
   {
    "duration": 1191,
    "start_time": "2023-12-06T09:05:07.136Z"
   },
   {
    "duration": 4,
    "start_time": "2023-12-06T09:05:08.329Z"
   },
   {
    "duration": 9381,
    "start_time": "2023-12-06T09:05:08.335Z"
   },
   {
    "duration": 215,
    "start_time": "2023-12-06T09:05:17.717Z"
   },
   {
    "duration": 16,
    "start_time": "2023-12-06T09:05:17.934Z"
   },
   {
    "duration": 190,
    "start_time": "2023-12-06T09:05:17.952Z"
   },
   {
    "duration": 212,
    "start_time": "2023-12-06T09:05:18.144Z"
   },
   {
    "duration": 16,
    "start_time": "2023-12-06T09:05:18.359Z"
   },
   {
    "duration": 142,
    "start_time": "2023-12-06T09:05:18.377Z"
   },
   {
    "duration": 12,
    "start_time": "2023-12-06T09:05:18.521Z"
   },
   {
    "duration": 123,
    "start_time": "2023-12-06T09:05:18.535Z"
   },
   {
    "duration": 1330,
    "start_time": "2023-12-06T09:05:18.659Z"
   },
   {
    "duration": 119,
    "start_time": "2023-12-06T09:05:19.991Z"
   },
   {
    "duration": 63,
    "start_time": "2023-12-06T09:05:20.112Z"
   },
   {
    "duration": 1042,
    "start_time": "2023-12-06T09:05:20.176Z"
   },
   {
    "duration": 478,
    "start_time": "2023-12-06T09:05:21.220Z"
   },
   {
    "duration": 2,
    "start_time": "2023-12-06T09:05:21.700Z"
   },
   {
    "duration": 464,
    "start_time": "2023-12-06T09:05:21.703Z"
   },
   {
    "duration": 112,
    "start_time": "2023-12-06T09:05:22.168Z"
   },
   {
    "duration": 74,
    "start_time": "2023-12-06T09:05:22.281Z"
   },
   {
    "duration": 133,
    "start_time": "2023-12-06T09:05:22.356Z"
   },
   {
    "duration": 2765,
    "start_time": "2023-12-06T12:16:28.526Z"
   },
   {
    "duration": 1378,
    "start_time": "2023-12-06T12:16:31.293Z"
   },
   {
    "duration": 4,
    "start_time": "2023-12-06T12:16:32.673Z"
   },
   {
    "duration": 9107,
    "start_time": "2023-12-06T12:16:32.680Z"
   },
   {
    "duration": 207,
    "start_time": "2023-12-06T12:16:41.788Z"
   },
   {
    "duration": 14,
    "start_time": "2023-12-06T12:16:41.997Z"
   },
   {
    "duration": 186,
    "start_time": "2023-12-06T12:16:42.012Z"
   },
   {
    "duration": 198,
    "start_time": "2023-12-06T12:16:42.200Z"
   },
   {
    "duration": 11,
    "start_time": "2023-12-06T12:16:42.400Z"
   },
   {
    "duration": 135,
    "start_time": "2023-12-06T12:16:42.414Z"
   },
   {
    "duration": 11,
    "start_time": "2023-12-06T12:16:42.551Z"
   },
   {
    "duration": 120,
    "start_time": "2023-12-06T12:16:42.564Z"
   },
   {
    "duration": 1266,
    "start_time": "2023-12-06T12:16:42.686Z"
   },
   {
    "duration": 116,
    "start_time": "2023-12-06T12:16:43.954Z"
   },
   {
    "duration": 62,
    "start_time": "2023-12-06T12:16:44.072Z"
   },
   {
    "duration": 1043,
    "start_time": "2023-12-06T12:16:44.136Z"
   },
   {
    "duration": 455,
    "start_time": "2023-12-06T12:16:45.180Z"
   },
   {
    "duration": 2,
    "start_time": "2023-12-06T12:16:45.636Z"
   },
   {
    "duration": 514,
    "start_time": "2023-12-06T12:16:45.639Z"
   },
   {
    "duration": 110,
    "start_time": "2023-12-06T12:16:46.154Z"
   },
   {
    "duration": 79,
    "start_time": "2023-12-06T12:16:46.266Z"
   },
   {
    "duration": 131,
    "start_time": "2023-12-06T12:16:46.347Z"
   },
   {
    "duration": 206,
    "start_time": "2023-12-06T12:32:42.817Z"
   },
   {
    "duration": 182,
    "start_time": "2023-12-06T12:38:11.626Z"
   },
   {
    "duration": 199,
    "start_time": "2023-12-06T12:38:16.411Z"
   },
   {
    "duration": 196,
    "start_time": "2023-12-06T12:40:10.395Z"
   },
   {
    "duration": 1284,
    "start_time": "2023-12-06T12:42:37.649Z"
   },
   {
    "duration": 62,
    "start_time": "2023-12-06T12:43:41.371Z"
   },
   {
    "duration": 1195,
    "start_time": "2023-12-06T12:44:05.467Z"
   },
   {
    "duration": 462,
    "start_time": "2023-12-06T12:44:34.774Z"
   },
   {
    "duration": 474,
    "start_time": "2023-12-06T12:44:45.827Z"
   },
   {
    "duration": 132,
    "start_time": "2023-12-06T12:48:57.619Z"
   },
   {
    "duration": 136,
    "start_time": "2023-12-06T12:48:58.317Z"
   },
   {
    "duration": 128,
    "start_time": "2023-12-06T12:48:58.811Z"
   },
   {
    "duration": 127,
    "start_time": "2023-12-06T12:48:59.275Z"
   },
   {
    "duration": 2541,
    "start_time": "2023-12-06T12:49:24.454Z"
   },
   {
    "duration": 1288,
    "start_time": "2023-12-06T12:49:26.997Z"
   },
   {
    "duration": 3,
    "start_time": "2023-12-06T12:49:28.287Z"
   },
   {
    "duration": 9166,
    "start_time": "2023-12-06T12:49:28.292Z"
   },
   {
    "duration": 206,
    "start_time": "2023-12-06T12:49:37.460Z"
   },
   {
    "duration": 15,
    "start_time": "2023-12-06T12:49:37.668Z"
   },
   {
    "duration": 186,
    "start_time": "2023-12-06T12:49:37.685Z"
   },
   {
    "duration": 199,
    "start_time": "2023-12-06T12:49:37.873Z"
   },
   {
    "duration": 12,
    "start_time": "2023-12-06T12:49:38.074Z"
   },
   {
    "duration": 150,
    "start_time": "2023-12-06T12:49:38.088Z"
   },
   {
    "duration": 13,
    "start_time": "2023-12-06T12:49:38.240Z"
   },
   {
    "duration": 122,
    "start_time": "2023-12-06T12:49:38.254Z"
   },
   {
    "duration": 1362,
    "start_time": "2023-12-06T12:49:38.378Z"
   },
   {
    "duration": 116,
    "start_time": "2023-12-06T12:49:39.746Z"
   },
   {
    "duration": 61,
    "start_time": "2023-12-06T12:49:39.863Z"
   },
   {
    "duration": 1080,
    "start_time": "2023-12-06T12:49:39.925Z"
   },
   {
    "duration": 459,
    "start_time": "2023-12-06T12:49:41.006Z"
   },
   {
    "duration": 2,
    "start_time": "2023-12-06T12:49:41.466Z"
   },
   {
    "duration": 487,
    "start_time": "2023-12-06T12:49:41.470Z"
   },
   {
    "duration": 112,
    "start_time": "2023-12-06T12:49:41.959Z"
   },
   {
    "duration": 84,
    "start_time": "2023-12-06T12:49:42.072Z"
   },
   {
    "duration": 126,
    "start_time": "2023-12-06T12:49:42.158Z"
   },
   {
    "duration": 2515,
    "start_time": "2023-12-06T12:51:57.959Z"
   },
   {
    "duration": 1302,
    "start_time": "2023-12-06T12:52:00.476Z"
   },
   {
    "duration": 4,
    "start_time": "2023-12-06T12:52:01.779Z"
   },
   {
    "duration": 8818,
    "start_time": "2023-12-06T12:52:01.785Z"
   },
   {
    "duration": 212,
    "start_time": "2023-12-06T12:52:10.605Z"
   },
   {
    "duration": 15,
    "start_time": "2023-12-06T12:52:10.818Z"
   },
   {
    "duration": 179,
    "start_time": "2023-12-06T12:52:10.835Z"
   },
   {
    "duration": 195,
    "start_time": "2023-12-06T12:52:11.016Z"
   },
   {
    "duration": 15,
    "start_time": "2023-12-06T12:52:11.213Z"
   },
   {
    "duration": 139,
    "start_time": "2023-12-06T12:52:11.231Z"
   },
   {
    "duration": 10,
    "start_time": "2023-12-06T12:52:11.372Z"
   },
   {
    "duration": 116,
    "start_time": "2023-12-06T12:52:11.383Z"
   },
   {
    "duration": 1318,
    "start_time": "2023-12-06T12:52:11.500Z"
   },
   {
    "duration": 114,
    "start_time": "2023-12-06T12:52:12.820Z"
   },
   {
    "duration": 73,
    "start_time": "2023-12-06T12:52:12.937Z"
   },
   {
    "duration": 1128,
    "start_time": "2023-12-06T12:52:13.011Z"
   },
   {
    "duration": 456,
    "start_time": "2023-12-06T12:52:14.141Z"
   },
   {
    "duration": 2,
    "start_time": "2023-12-06T12:52:14.599Z"
   },
   {
    "duration": 498,
    "start_time": "2023-12-06T12:52:14.603Z"
   },
   {
    "duration": 110,
    "start_time": "2023-12-06T12:52:15.103Z"
   },
   {
    "duration": 85,
    "start_time": "2023-12-06T12:52:15.214Z"
   },
   {
    "duration": 128,
    "start_time": "2023-12-06T12:52:15.301Z"
   },
   {
    "duration": 53,
    "start_time": "2023-12-07T08:05:32.685Z"
   },
   {
    "duration": 2615,
    "start_time": "2023-12-07T08:05:37.006Z"
   },
   {
    "duration": 1466,
    "start_time": "2023-12-07T08:05:39.623Z"
   },
   {
    "duration": 3,
    "start_time": "2023-12-07T08:05:41.091Z"
   },
   {
    "duration": 8290,
    "start_time": "2023-12-07T08:05:41.096Z"
   },
   {
    "duration": 220,
    "start_time": "2023-12-07T08:05:49.388Z"
   },
   {
    "duration": 17,
    "start_time": "2023-12-07T08:05:49.609Z"
   },
   {
    "duration": 222,
    "start_time": "2023-12-07T08:05:49.627Z"
   },
   {
    "duration": 197,
    "start_time": "2023-12-07T08:05:49.850Z"
   },
   {
    "duration": 138,
    "start_time": "2023-12-07T08:08:39.858Z"
   },
   {
    "duration": 134,
    "start_time": "2023-12-07T08:10:00.705Z"
   },
   {
    "duration": 133,
    "start_time": "2023-12-07T08:10:16.365Z"
   },
   {
    "duration": 2337,
    "start_time": "2023-12-07T08:22:33.429Z"
   },
   {
    "duration": 3,
    "start_time": "2023-12-07T08:22:36.732Z"
   },
   {
    "duration": 3,
    "start_time": "2023-12-07T08:22:37.830Z"
   },
   {
    "duration": 4,
    "start_time": "2023-12-07T08:22:42.214Z"
   },
   {
    "duration": 220,
    "start_time": "2023-12-07T08:22:44.997Z"
   },
   {
    "duration": 11,
    "start_time": "2023-12-07T08:22:45.946Z"
   },
   {
    "duration": 189,
    "start_time": "2023-12-07T08:22:51.210Z"
   },
   {
    "duration": 2410,
    "start_time": "2023-12-07T08:55:51.516Z"
   },
   {
    "duration": 1242,
    "start_time": "2023-12-07T08:55:53.928Z"
   },
   {
    "duration": 7,
    "start_time": "2023-12-07T08:55:55.172Z"
   },
   {
    "duration": 8324,
    "start_time": "2023-12-07T08:55:55.181Z"
   },
   {
    "duration": 214,
    "start_time": "2023-12-07T08:56:03.507Z"
   },
   {
    "duration": 13,
    "start_time": "2023-12-07T08:56:03.723Z"
   },
   {
    "duration": 199,
    "start_time": "2023-12-07T08:56:03.738Z"
   },
   {
    "duration": 154,
    "start_time": "2023-12-07T08:56:03.939Z"
   },
   {
    "duration": 10,
    "start_time": "2023-12-07T08:56:04.095Z"
   },
   {
    "duration": 172,
    "start_time": "2023-12-07T08:56:04.107Z"
   },
   {
    "duration": 9,
    "start_time": "2023-12-07T08:56:04.280Z"
   },
   {
    "duration": 137,
    "start_time": "2023-12-07T08:56:04.291Z"
   },
   {
    "duration": 1393,
    "start_time": "2023-12-07T08:56:04.430Z"
   },
   {
    "duration": 126,
    "start_time": "2023-12-07T08:56:05.825Z"
   },
   {
    "duration": 67,
    "start_time": "2023-12-07T08:56:05.952Z"
   },
   {
    "duration": 1083,
    "start_time": "2023-12-07T08:56:06.020Z"
   },
   {
    "duration": 519,
    "start_time": "2023-12-07T08:56:07.105Z"
   },
   {
    "duration": 2,
    "start_time": "2023-12-07T08:56:07.626Z"
   },
   {
    "duration": 469,
    "start_time": "2023-12-07T08:56:07.630Z"
   },
   {
    "duration": 120,
    "start_time": "2023-12-07T08:56:08.100Z"
   },
   {
    "duration": 96,
    "start_time": "2023-12-07T08:56:08.222Z"
   },
   {
    "duration": 146,
    "start_time": "2023-12-07T08:56:08.319Z"
   },
   {
    "duration": 87,
    "start_time": "2023-12-07T09:00:41.800Z"
   },
   {
    "duration": 12,
    "start_time": "2023-12-07T09:15:11.485Z"
   },
   {
    "duration": 12,
    "start_time": "2023-12-07T09:20:11.438Z"
   },
   {
    "duration": 99,
    "start_time": "2023-12-07T09:20:13.903Z"
   },
   {
    "duration": 203,
    "start_time": "2023-12-07T09:20:57.935Z"
   },
   {
    "duration": 10,
    "start_time": "2023-12-07T09:23:47.944Z"
   },
   {
    "duration": 10,
    "start_time": "2023-12-07T09:24:05.060Z"
   },
   {
    "duration": 18,
    "start_time": "2023-12-07T09:24:11.443Z"
   },
   {
    "duration": 15,
    "start_time": "2023-12-07T09:24:24.817Z"
   },
   {
    "duration": 3,
    "start_time": "2023-12-07T09:26:35.405Z"
   },
   {
    "duration": 4,
    "start_time": "2023-12-07T09:29:19.774Z"
   },
   {
    "duration": 12,
    "start_time": "2023-12-07T09:29:39.863Z"
   },
   {
    "duration": 3,
    "start_time": "2023-12-07T09:29:40.964Z"
   },
   {
    "duration": 3,
    "start_time": "2023-12-07T09:31:27.886Z"
   },
   {
    "duration": 2397,
    "start_time": "2023-12-07T09:31:37.361Z"
   },
   {
    "duration": 1202,
    "start_time": "2023-12-07T09:31:39.760Z"
   },
   {
    "duration": 3,
    "start_time": "2023-12-07T09:31:40.964Z"
   },
   {
    "duration": 9874,
    "start_time": "2023-12-07T09:31:40.968Z"
   },
   {
    "duration": 216,
    "start_time": "2023-12-07T09:31:50.843Z"
   },
   {
    "duration": 14,
    "start_time": "2023-12-07T09:31:51.061Z"
   },
   {
    "duration": 208,
    "start_time": "2023-12-07T09:31:51.077Z"
   },
   {
    "duration": 152,
    "start_time": "2023-12-07T09:31:51.286Z"
   },
   {
    "duration": 10,
    "start_time": "2023-12-07T09:31:51.440Z"
   },
   {
    "duration": 153,
    "start_time": "2023-12-07T09:31:51.452Z"
   },
   {
    "duration": 10,
    "start_time": "2023-12-07T09:31:51.606Z"
   },
   {
    "duration": 9,
    "start_time": "2023-12-07T09:31:51.617Z"
   },
   {
    "duration": 0,
    "start_time": "2023-12-07T09:31:51.627Z"
   },
   {
    "duration": 0,
    "start_time": "2023-12-07T09:31:51.628Z"
   },
   {
    "duration": 0,
    "start_time": "2023-12-07T09:31:51.629Z"
   },
   {
    "duration": 0,
    "start_time": "2023-12-07T09:31:51.630Z"
   },
   {
    "duration": 0,
    "start_time": "2023-12-07T09:31:51.631Z"
   },
   {
    "duration": 0,
    "start_time": "2023-12-07T09:31:51.632Z"
   },
   {
    "duration": 0,
    "start_time": "2023-12-07T09:31:51.633Z"
   },
   {
    "duration": 0,
    "start_time": "2023-12-07T09:31:51.634Z"
   },
   {
    "duration": 0,
    "start_time": "2023-12-07T09:31:51.635Z"
   },
   {
    "duration": 0,
    "start_time": "2023-12-07T09:31:51.636Z"
   },
   {
    "duration": 3,
    "start_time": "2023-12-07T09:40:35.464Z"
   },
   {
    "duration": 2686,
    "start_time": "2023-12-07T11:11:21.453Z"
   },
   {
    "duration": 1445,
    "start_time": "2023-12-07T11:11:25.978Z"
   },
   {
    "duration": 4,
    "start_time": "2023-12-07T11:11:27.476Z"
   },
   {
    "duration": 10077,
    "start_time": "2023-12-07T11:11:28.320Z"
   },
   {
    "duration": 223,
    "start_time": "2023-12-07T11:11:38.399Z"
   },
   {
    "duration": 16,
    "start_time": "2023-12-07T11:11:38.624Z"
   },
   {
    "duration": 198,
    "start_time": "2023-12-07T11:11:38.642Z"
   },
   {
    "duration": 152,
    "start_time": "2023-12-07T11:11:38.842Z"
   },
   {
    "duration": 15,
    "start_time": "2023-12-07T11:11:42.998Z"
   },
   {
    "duration": 149,
    "start_time": "2023-12-07T11:12:46.784Z"
   },
   {
    "duration": 11,
    "start_time": "2023-12-07T11:12:51.737Z"
   },
   {
    "duration": 3,
    "start_time": "2023-12-07T11:12:53.579Z"
   },
   {
    "duration": 3,
    "start_time": "2023-12-07T11:13:56.800Z"
   },
   {
    "duration": 4,
    "start_time": "2023-12-07T11:14:27.065Z"
   },
   {
    "duration": 4,
    "start_time": "2023-12-07T11:14:35.568Z"
   },
   {
    "duration": 3,
    "start_time": "2023-12-07T11:14:42.679Z"
   },
   {
    "duration": 307,
    "start_time": "2023-12-07T11:15:26.761Z"
   },
   {
    "duration": 89,
    "start_time": "2023-12-07T11:16:11.957Z"
   },
   {
    "duration": 86,
    "start_time": "2023-12-07T11:19:02.799Z"
   },
   {
    "duration": 96,
    "start_time": "2023-12-07T11:22:26.962Z"
   },
   {
    "duration": 1209,
    "start_time": "2023-12-07T11:24:36.074Z"
   },
   {
    "duration": 122,
    "start_time": "2023-12-07T11:24:43.379Z"
   },
   {
    "duration": 63,
    "start_time": "2023-12-07T11:24:49.746Z"
   },
   {
    "duration": 1249,
    "start_time": "2023-12-07T11:24:56.455Z"
   },
   {
    "duration": 9,
    "start_time": "2023-12-07T11:28:43.760Z"
   },
   {
    "duration": 159,
    "start_time": "2023-12-07T11:28:51.868Z"
   },
   {
    "duration": 140,
    "start_time": "2023-12-07T11:29:46.471Z"
   },
   {
    "duration": 1176,
    "start_time": "2023-12-07T11:30:25.396Z"
   },
   {
    "duration": 91,
    "start_time": "2023-12-07T11:31:56.686Z"
   },
   {
    "duration": 80,
    "start_time": "2023-12-07T11:32:28.225Z"
   },
   {
    "duration": 1300,
    "start_time": "2023-12-07T11:36:33.476Z"
   },
   {
    "duration": 506,
    "start_time": "2023-12-07T11:37:16.957Z"
   },
   {
    "duration": 496,
    "start_time": "2023-12-07T11:39:42.460Z"
   },
   {
    "duration": 420,
    "start_time": "2023-12-07T12:14:54.296Z"
   },
   {
    "duration": 391,
    "start_time": "2023-12-07T12:23:32.215Z"
   },
   {
    "duration": 398,
    "start_time": "2023-12-07T12:24:01.323Z"
   },
   {
    "duration": 125,
    "start_time": "2023-12-07T12:30:07.781Z"
   },
   {
    "duration": 76,
    "start_time": "2023-12-07T12:30:11.108Z"
   },
   {
    "duration": 90,
    "start_time": "2023-12-07T12:36:04.968Z"
   },
   {
    "duration": 100,
    "start_time": "2023-12-07T12:36:47.658Z"
   },
   {
    "duration": 143,
    "start_time": "2023-12-07T12:36:55.967Z"
   },
   {
    "duration": 2413,
    "start_time": "2023-12-07T12:37:36.778Z"
   },
   {
    "duration": 1236,
    "start_time": "2023-12-07T12:37:39.194Z"
   },
   {
    "duration": 3,
    "start_time": "2023-12-07T12:37:40.432Z"
   },
   {
    "duration": 8384,
    "start_time": "2023-12-07T12:37:40.437Z"
   },
   {
    "duration": 224,
    "start_time": "2023-12-07T12:37:48.822Z"
   },
   {
    "duration": 17,
    "start_time": "2023-12-07T12:37:49.048Z"
   },
   {
    "duration": 213,
    "start_time": "2023-12-07T12:37:49.066Z"
   },
   {
    "duration": 155,
    "start_time": "2023-12-07T12:37:49.280Z"
   },
   {
    "duration": 12,
    "start_time": "2023-12-07T12:37:49.436Z"
   },
   {
    "duration": 148,
    "start_time": "2023-12-07T12:37:49.451Z"
   },
   {
    "duration": 11,
    "start_time": "2023-12-07T12:37:49.600Z"
   },
   {
    "duration": 115,
    "start_time": "2023-12-07T12:37:49.612Z"
   },
   {
    "duration": 1332,
    "start_time": "2023-12-07T12:37:49.729Z"
   },
   {
    "duration": 135,
    "start_time": "2023-12-07T12:37:51.062Z"
   },
   {
    "duration": 73,
    "start_time": "2023-12-07T12:37:51.199Z"
   },
   {
    "duration": 1222,
    "start_time": "2023-12-07T12:37:51.274Z"
   },
   {
    "duration": 1108,
    "start_time": "2023-12-07T12:37:52.498Z"
   },
   {
    "duration": 511,
    "start_time": "2023-12-07T12:37:53.610Z"
   },
   {
    "duration": 2,
    "start_time": "2023-12-07T12:37:54.122Z"
   },
   {
    "duration": 388,
    "start_time": "2023-12-07T12:37:54.126Z"
   },
   {
    "duration": 116,
    "start_time": "2023-12-07T12:37:54.516Z"
   },
   {
    "duration": 99,
    "start_time": "2023-12-07T12:37:54.634Z"
   },
   {
    "duration": 141,
    "start_time": "2023-12-07T12:37:54.735Z"
   },
   {
    "duration": 2348,
    "start_time": "2023-12-07T13:08:55.594Z"
   },
   {
    "duration": 1193,
    "start_time": "2023-12-07T13:08:57.945Z"
   },
   {
    "duration": 4,
    "start_time": "2023-12-07T13:08:59.139Z"
   },
   {
    "duration": 5831,
    "start_time": "2023-12-07T13:08:59.146Z"
   },
   {
    "duration": 44,
    "start_time": "2023-12-07T13:09:04.979Z"
   },
   {
    "duration": 15,
    "start_time": "2023-12-07T13:09:05.025Z"
   },
   {
    "duration": 210,
    "start_time": "2023-12-07T13:09:05.042Z"
   },
   {
    "duration": 121,
    "start_time": "2023-12-07T13:09:05.254Z"
   },
   {
    "duration": 13,
    "start_time": "2023-12-07T13:09:05.377Z"
   },
   {
    "duration": 122,
    "start_time": "2023-12-07T13:09:05.392Z"
   },
   {
    "duration": 12,
    "start_time": "2023-12-07T13:09:05.516Z"
   },
   {
    "duration": 139,
    "start_time": "2023-12-07T13:09:05.530Z"
   },
   {
    "duration": 1347,
    "start_time": "2023-12-07T13:09:05.671Z"
   },
   {
    "duration": 95,
    "start_time": "2023-12-07T13:09:07.031Z"
   },
   {
    "duration": 32,
    "start_time": "2023-12-07T13:09:07.128Z"
   },
   {
    "duration": 1177,
    "start_time": "2023-12-07T13:09:07.162Z"
   },
   {
    "duration": 1084,
    "start_time": "2023-12-07T13:09:08.340Z"
   },
   {
    "duration": 455,
    "start_time": "2023-12-07T13:09:09.426Z"
   },
   {
    "duration": 3,
    "start_time": "2023-12-07T13:09:09.883Z"
   },
   {
    "duration": 390,
    "start_time": "2023-12-07T13:09:09.887Z"
   },
   {
    "duration": 83,
    "start_time": "2023-12-07T13:09:10.279Z"
   },
   {
    "duration": 93,
    "start_time": "2023-12-07T13:09:10.364Z"
   },
   {
    "duration": 104,
    "start_time": "2023-12-07T13:09:10.459Z"
   },
   {
    "duration": 124,
    "start_time": "2023-12-07T13:09:20.270Z"
   },
   {
    "duration": 68,
    "start_time": "2023-12-07T13:10:26.498Z"
   },
   {
    "duration": 2309,
    "start_time": "2023-12-07T13:18:12.995Z"
   },
   {
    "duration": 1363,
    "start_time": "2023-12-07T13:18:15.307Z"
   },
   {
    "duration": 4,
    "start_time": "2023-12-07T13:18:16.672Z"
   },
   {
    "duration": 5477,
    "start_time": "2023-12-07T13:18:16.678Z"
   },
   {
    "duration": 36,
    "start_time": "2023-12-07T13:18:22.158Z"
   },
   {
    "duration": 22,
    "start_time": "2023-12-07T13:18:22.196Z"
   },
   {
    "duration": 163,
    "start_time": "2023-12-07T13:18:22.220Z"
   },
   {
    "duration": 118,
    "start_time": "2023-12-07T13:18:22.385Z"
   },
   {
    "duration": 2368,
    "start_time": "2023-12-07T13:20:07.296Z"
   },
   {
    "duration": 1183,
    "start_time": "2023-12-07T13:20:09.667Z"
   },
   {
    "duration": 4,
    "start_time": "2023-12-07T13:20:10.853Z"
   },
   {
    "duration": 5509,
    "start_time": "2023-12-07T13:20:10.859Z"
   },
   {
    "duration": 32,
    "start_time": "2023-12-07T13:20:16.369Z"
   },
   {
    "duration": 26,
    "start_time": "2023-12-07T13:20:16.403Z"
   },
   {
    "duration": 162,
    "start_time": "2023-12-07T13:20:16.431Z"
   },
   {
    "duration": 117,
    "start_time": "2023-12-07T13:20:16.595Z"
   },
   {
    "duration": 714021,
    "start_time": "2023-12-07T13:20:16.713Z"
   },
   {
    "duration": 21,
    "start_time": "2023-12-07T13:32:10.736Z"
   },
   {
    "duration": 113,
    "start_time": "2023-12-07T13:32:10.759Z"
   },
   {
    "duration": 11,
    "start_time": "2023-12-07T13:32:10.874Z"
   },
   {
    "duration": 113,
    "start_time": "2023-12-07T13:32:10.888Z"
   },
   {
    "duration": 1475,
    "start_time": "2023-12-07T13:32:11.003Z"
   },
   {
    "duration": 93,
    "start_time": "2023-12-07T13:32:12.480Z"
   },
   {
    "duration": 33,
    "start_time": "2023-12-07T13:32:12.575Z"
   },
   {
    "duration": 1332,
    "start_time": "2023-12-07T13:32:12.610Z"
   },
   {
    "duration": 1111,
    "start_time": "2023-12-07T13:32:13.943Z"
   },
   {
    "duration": 468,
    "start_time": "2023-12-07T13:32:15.056Z"
   },
   {
    "duration": 3,
    "start_time": "2023-12-07T13:32:15.526Z"
   },
   {
    "duration": 419,
    "start_time": "2023-12-07T13:32:15.530Z"
   },
   {
    "duration": 85,
    "start_time": "2023-12-07T13:32:15.951Z"
   },
   {
    "duration": 111,
    "start_time": "2023-12-07T13:32:16.037Z"
   },
   {
    "duration": 112,
    "start_time": "2023-12-07T13:32:16.149Z"
   },
   {
    "duration": 143,
    "start_time": "2023-12-07T13:54:33.150Z"
   },
   {
    "duration": 143,
    "start_time": "2023-12-07T13:55:46.656Z"
   },
   {
    "duration": 637335,
    "start_time": "2023-12-07T14:02:36.992Z"
   },
   {
    "duration": 675858,
    "start_time": "2023-12-07T14:25:30.556Z"
   },
   {
    "duration": 629490,
    "start_time": "2023-12-07T14:36:46.416Z"
   },
   {
    "duration": 75,
    "start_time": "2023-12-07T14:58:30.030Z"
   },
   {
    "duration": 70,
    "start_time": "2023-12-07T14:58:32.251Z"
   },
   {
    "duration": 68,
    "start_time": "2023-12-07T14:58:32.978Z"
   },
   {
    "duration": 73,
    "start_time": "2023-12-07T14:58:33.842Z"
   },
   {
    "duration": 73,
    "start_time": "2023-12-07T14:58:34.969Z"
   },
   {
    "duration": 69,
    "start_time": "2023-12-07T14:58:35.690Z"
   },
   {
    "duration": 37,
    "start_time": "2023-12-07T14:58:55.008Z"
   },
   {
    "duration": 34,
    "start_time": "2023-12-07T14:58:56.785Z"
   },
   {
    "duration": 76,
    "start_time": "2023-12-07T14:59:58.441Z"
   },
   {
    "duration": 81,
    "start_time": "2023-12-07T15:00:36.569Z"
   },
   {
    "duration": 119,
    "start_time": "2023-12-07T15:04:22.489Z"
   },
   {
    "duration": 2511,
    "start_time": "2023-12-07T15:05:13.988Z"
   },
   {
    "duration": 1408,
    "start_time": "2023-12-07T15:05:16.502Z"
   },
   {
    "duration": 4,
    "start_time": "2023-12-07T15:05:17.912Z"
   },
   {
    "duration": 5552,
    "start_time": "2023-12-07T15:05:17.917Z"
   },
   {
    "duration": 40,
    "start_time": "2023-12-07T15:05:23.472Z"
   },
   {
    "duration": 16,
    "start_time": "2023-12-07T15:05:23.514Z"
   },
   {
    "duration": 191,
    "start_time": "2023-12-07T15:05:23.532Z"
   },
   {
    "duration": 146,
    "start_time": "2023-12-07T15:05:23.724Z"
   },
   {
    "duration": 14,
    "start_time": "2023-12-07T15:05:23.872Z"
   },
   {
    "duration": 116,
    "start_time": "2023-12-07T15:05:23.888Z"
   },
   {
    "duration": 12,
    "start_time": "2023-12-07T15:05:24.006Z"
   },
   {
    "duration": 106,
    "start_time": "2023-12-07T15:05:24.020Z"
   },
   {
    "duration": 1264,
    "start_time": "2023-12-07T15:05:24.130Z"
   },
   {
    "duration": 93,
    "start_time": "2023-12-07T15:05:25.396Z"
   },
   {
    "duration": 32,
    "start_time": "2023-12-07T15:05:25.492Z"
   },
   {
    "duration": 1146,
    "start_time": "2023-12-07T15:05:25.526Z"
   },
   {
    "duration": 1088,
    "start_time": "2023-12-07T15:05:26.674Z"
   },
   {
    "duration": 452,
    "start_time": "2023-12-07T15:05:27.764Z"
   },
   {
    "duration": 2,
    "start_time": "2023-12-07T15:05:28.218Z"
   },
   {
    "duration": 437,
    "start_time": "2023-12-07T15:05:28.222Z"
   },
   {
    "duration": 84,
    "start_time": "2023-12-07T15:05:28.660Z"
   },
   {
    "duration": 109,
    "start_time": "2023-12-07T15:05:28.746Z"
   },
   {
    "duration": 105,
    "start_time": "2023-12-07T15:05:28.857Z"
   },
   {
    "duration": 141,
    "start_time": "2023-12-07T15:05:32.068Z"
   },
   {
    "duration": 140,
    "start_time": "2023-12-07T15:05:37.450Z"
   },
   {
    "duration": 138,
    "start_time": "2023-12-07T15:05:41.034Z"
   },
   {
    "duration": 137,
    "start_time": "2023-12-07T15:05:43.940Z"
   },
   {
    "duration": 143,
    "start_time": "2023-12-07T15:05:46.684Z"
   },
   {
    "duration": 145,
    "start_time": "2023-12-07T15:05:49.363Z"
   },
   {
    "duration": 2297,
    "start_time": "2023-12-07T15:08:56.419Z"
   },
   {
    "duration": 1234,
    "start_time": "2023-12-07T15:08:58.718Z"
   },
   {
    "duration": 4,
    "start_time": "2023-12-07T15:08:59.954Z"
   },
   {
    "duration": 5615,
    "start_time": "2023-12-07T15:08:59.960Z"
   },
   {
    "duration": 51,
    "start_time": "2023-12-07T15:09:05.576Z"
   },
   {
    "duration": 17,
    "start_time": "2023-12-07T15:09:05.629Z"
   },
   {
    "duration": 161,
    "start_time": "2023-12-07T15:09:05.648Z"
   },
   {
    "duration": 121,
    "start_time": "2023-12-07T15:09:05.811Z"
   },
   {
    "duration": 12,
    "start_time": "2023-12-07T15:09:05.934Z"
   },
   {
    "duration": 120,
    "start_time": "2023-12-07T15:09:05.949Z"
   },
   {
    "duration": 11,
    "start_time": "2023-12-07T15:09:06.071Z"
   },
   {
    "duration": 113,
    "start_time": "2023-12-07T15:09:06.084Z"
   },
   {
    "duration": 1332,
    "start_time": "2023-12-07T15:09:06.199Z"
   },
   {
    "duration": 93,
    "start_time": "2023-12-07T15:09:07.532Z"
   },
   {
    "duration": 33,
    "start_time": "2023-12-07T15:09:07.626Z"
   },
   {
    "duration": 1165,
    "start_time": "2023-12-07T15:09:07.660Z"
   },
   {
    "duration": 1101,
    "start_time": "2023-12-07T15:09:08.830Z"
   },
   {
    "duration": 470,
    "start_time": "2023-12-07T15:09:09.933Z"
   },
   {
    "duration": 3,
    "start_time": "2023-12-07T15:09:10.405Z"
   },
   {
    "duration": 389,
    "start_time": "2023-12-07T15:09:10.410Z"
   },
   {
    "duration": 87,
    "start_time": "2023-12-07T15:09:10.801Z"
   },
   {
    "duration": 91,
    "start_time": "2023-12-07T15:09:10.890Z"
   },
   {
    "duration": 107,
    "start_time": "2023-12-07T15:09:10.983Z"
   }
  ],
  "colab": {
   "provenance": []
  },
  "kernelspec": {
   "display_name": "Python 3 (ipykernel)",
   "language": "python",
   "name": "python3"
  },
  "language_info": {
   "codemirror_mode": {
    "name": "ipython",
    "version": 3
   },
   "file_extension": ".py",
   "mimetype": "text/x-python",
   "name": "python",
   "nbconvert_exporter": "python",
   "pygments_lexer": "ipython3",
   "version": "3.9.7"
  },
  "toc": {
   "base_numbering": 1,
   "nav_menu": {},
   "number_sections": true,
   "sideBar": true,
   "skip_h1_title": true,
   "title_cell": "Table of Contents",
   "title_sidebar": "Contents",
   "toc_cell": false,
   "toc_position": {},
   "toc_section_display": true,
   "toc_window_display": false
  }
 },
 "nbformat": 4,
 "nbformat_minor": 1
}
